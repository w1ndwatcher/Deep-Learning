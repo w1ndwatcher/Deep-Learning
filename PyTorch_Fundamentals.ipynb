{
  "nbformat": 4,
  "nbformat_minor": 0,
  "metadata": {
    "colab": {
      "provenance": []
    },
    "kernelspec": {
      "name": "python3",
      "display_name": "Python 3"
    },
    "language_info": {
      "name": "python"
    }
  },
  "cells": [
    {
      "cell_type": "code",
      "execution_count": 70,
      "metadata": {
        "colab": {
          "base_uri": "https://localhost:8080/"
        },
        "id": "gN0iAeVrIifS",
        "outputId": "87306bed-2135-4387-f0dd-1587a433d2b4"
      },
      "outputs": [
        {
          "output_type": "stream",
          "name": "stdout",
          "text": [
            "2.5.1+cu124\n"
          ]
        }
      ],
      "source": [
        "import torch\n",
        "import pandas as pd\n",
        "import matplotlib.pyplot as plt\n",
        "import numpy as np\n",
        "print(torch.__version__)"
      ]
    },
    {
      "cell_type": "code",
      "source": [
        "!nvidia-smi"
      ],
      "metadata": {
        "colab": {
          "base_uri": "https://localhost:8080/"
        },
        "id": "5JMBBq4qJQ8Z",
        "outputId": "0ff033e0-5aa9-4a97-d760-3ebe4132a25c"
      },
      "execution_count": 71,
      "outputs": [
        {
          "output_type": "stream",
          "name": "stdout",
          "text": [
            "/bin/bash: line 1: nvidia-smi: command not found\n"
          ]
        }
      ]
    },
    {
      "cell_type": "markdown",
      "source": [
        "<h2>Introduction to Tensors</h2>"
      ],
      "metadata": {
        "id": "GxMEkuSaKd9h"
      }
    },
    {
      "cell_type": "markdown",
      "source": [
        "Scalar"
      ],
      "metadata": {
        "id": "2lHPkdCYQjxV"
      }
    },
    {
      "cell_type": "code",
      "source": [
        "scalar = torch.tensor(7)\n",
        "scalar"
      ],
      "metadata": {
        "colab": {
          "base_uri": "https://localhost:8080/"
        },
        "id": "LrJF7R0AKjI7",
        "outputId": "660bb1b2-fed6-4272-8810-7b80567732d0"
      },
      "execution_count": 72,
      "outputs": [
        {
          "output_type": "execute_result",
          "data": {
            "text/plain": [
              "tensor(7)"
            ]
          },
          "metadata": {},
          "execution_count": 72
        }
      ]
    },
    {
      "cell_type": "code",
      "source": [
        "scalar.ndim"
      ],
      "metadata": {
        "colab": {
          "base_uri": "https://localhost:8080/"
        },
        "id": "y6_h99RTLLMQ",
        "outputId": "882e359a-ac0c-4e47-e716-6fc6ecdd74fe"
      },
      "execution_count": 73,
      "outputs": [
        {
          "output_type": "execute_result",
          "data": {
            "text/plain": [
              "0"
            ]
          },
          "metadata": {},
          "execution_count": 73
        }
      ]
    },
    {
      "cell_type": "code",
      "source": [
        "scalar.item()"
      ],
      "metadata": {
        "colab": {
          "base_uri": "https://localhost:8080/"
        },
        "id": "bViirtzbLVf6",
        "outputId": "f26dd9f4-dd76-42e2-f012-4c6c15359b90"
      },
      "execution_count": 74,
      "outputs": [
        {
          "output_type": "execute_result",
          "data": {
            "text/plain": [
              "7"
            ]
          },
          "metadata": {},
          "execution_count": 74
        }
      ]
    },
    {
      "cell_type": "markdown",
      "source": [
        "Vector"
      ],
      "metadata": {
        "id": "lj91HjKvQh2l"
      }
    },
    {
      "cell_type": "code",
      "source": [
        "vector = torch.tensor([7,7])\n",
        "vector"
      ],
      "metadata": {
        "colab": {
          "base_uri": "https://localhost:8080/"
        },
        "id": "Tc9bf54eLjJl",
        "outputId": "531859ce-a01f-47ba-b0bf-4fef7264c4d6"
      },
      "execution_count": 75,
      "outputs": [
        {
          "output_type": "execute_result",
          "data": {
            "text/plain": [
              "tensor([7, 7])"
            ]
          },
          "metadata": {},
          "execution_count": 75
        }
      ]
    },
    {
      "cell_type": "code",
      "source": [
        "vector.ndim\n",
        "# no of pairs of square brackets"
      ],
      "metadata": {
        "colab": {
          "base_uri": "https://localhost:8080/"
        },
        "id": "4X1NPakjLscF",
        "outputId": "164332dc-ef34-4346-9c4f-5c7b953f619c"
      },
      "execution_count": 76,
      "outputs": [
        {
          "output_type": "execute_result",
          "data": {
            "text/plain": [
              "1"
            ]
          },
          "metadata": {},
          "execution_count": 76
        }
      ]
    },
    {
      "cell_type": "code",
      "source": [
        "vector.shape\n",
        "# 2 by 1 elements"
      ],
      "metadata": {
        "colab": {
          "base_uri": "https://localhost:8080/"
        },
        "id": "0pziyNMKLuxc",
        "outputId": "319121a3-9117-42e3-aa7f-93ae8a84f731"
      },
      "execution_count": 77,
      "outputs": [
        {
          "output_type": "execute_result",
          "data": {
            "text/plain": [
              "torch.Size([2])"
            ]
          },
          "metadata": {},
          "execution_count": 77
        }
      ]
    },
    {
      "cell_type": "markdown",
      "source": [
        "Matrix"
      ],
      "metadata": {
        "id": "RSIN3yKXMaZ2"
      }
    },
    {
      "cell_type": "code",
      "source": [
        "matrix = torch.tensor([[7,8],[9,10]])\n",
        "matrix"
      ],
      "metadata": {
        "colab": {
          "base_uri": "https://localhost:8080/"
        },
        "id": "wOzhELl9MZ2t",
        "outputId": "fe941bad-117d-4561-e2ac-df5362f064dd"
      },
      "execution_count": 78,
      "outputs": [
        {
          "output_type": "execute_result",
          "data": {
            "text/plain": [
              "tensor([[ 7,  8],\n",
              "        [ 9, 10]])"
            ]
          },
          "metadata": {},
          "execution_count": 78
        }
      ]
    },
    {
      "cell_type": "code",
      "source": [
        "matrix.ndim"
      ],
      "metadata": {
        "colab": {
          "base_uri": "https://localhost:8080/"
        },
        "id": "4HoDvFkjQR7T",
        "outputId": "ae37617f-d57a-4ebc-b830-8b918e4e2d0d"
      },
      "execution_count": 79,
      "outputs": [
        {
          "output_type": "execute_result",
          "data": {
            "text/plain": [
              "2"
            ]
          },
          "metadata": {},
          "execution_count": 79
        }
      ]
    },
    {
      "cell_type": "code",
      "source": [
        "matrix[0], matrix[1]"
      ],
      "metadata": {
        "colab": {
          "base_uri": "https://localhost:8080/"
        },
        "id": "51ct_s5BQUN-",
        "outputId": "5e182522-2cf7-4073-d1eb-7be44993d74a"
      },
      "execution_count": 80,
      "outputs": [
        {
          "output_type": "execute_result",
          "data": {
            "text/plain": [
              "(tensor([7, 8]), tensor([ 9, 10]))"
            ]
          },
          "metadata": {},
          "execution_count": 80
        }
      ]
    },
    {
      "cell_type": "code",
      "source": [
        "matrix.shape"
      ],
      "metadata": {
        "colab": {
          "base_uri": "https://localhost:8080/"
        },
        "id": "bqO66WjDQbsQ",
        "outputId": "a46057cd-8802-4c14-a6ae-d4489478c61b"
      },
      "execution_count": 81,
      "outputs": [
        {
          "output_type": "execute_result",
          "data": {
            "text/plain": [
              "torch.Size([2, 2])"
            ]
          },
          "metadata": {},
          "execution_count": 81
        }
      ]
    },
    {
      "cell_type": "markdown",
      "source": [
        "Tensor"
      ],
      "metadata": {
        "id": "wTSR26ADQmp0"
      }
    },
    {
      "cell_type": "code",
      "source": [
        "tn = torch.tensor([[[1,2,3],[4,5,6],[7,8,9]]])\n",
        "tn"
      ],
      "metadata": {
        "colab": {
          "base_uri": "https://localhost:8080/"
        },
        "id": "dtVYrnvbQpOm",
        "outputId": "2b3d453e-027b-41bb-b77a-9d28140d8117"
      },
      "execution_count": 82,
      "outputs": [
        {
          "output_type": "execute_result",
          "data": {
            "text/plain": [
              "tensor([[[1, 2, 3],\n",
              "         [4, 5, 6],\n",
              "         [7, 8, 9]]])"
            ]
          },
          "metadata": {},
          "execution_count": 82
        }
      ]
    },
    {
      "cell_type": "code",
      "source": [
        "tn.ndim"
      ],
      "metadata": {
        "colab": {
          "base_uri": "https://localhost:8080/"
        },
        "id": "NG_T1BEwQ03d",
        "outputId": "630f7d72-9de3-498e-8634-4817ec2dfad8"
      },
      "execution_count": 83,
      "outputs": [
        {
          "output_type": "execute_result",
          "data": {
            "text/plain": [
              "3"
            ]
          },
          "metadata": {},
          "execution_count": 83
        }
      ]
    },
    {
      "cell_type": "code",
      "source": [
        "tn.shape"
      ],
      "metadata": {
        "colab": {
          "base_uri": "https://localhost:8080/"
        },
        "id": "WeyA88NSQ_6Y",
        "outputId": "cdb72dd3-c512-4122-9fdd-735b8f94dc07"
      },
      "execution_count": 84,
      "outputs": [
        {
          "output_type": "execute_result",
          "data": {
            "text/plain": [
              "torch.Size([1, 3, 3])"
            ]
          },
          "metadata": {},
          "execution_count": 84
        }
      ]
    },
    {
      "cell_type": "markdown",
      "source": [
        "Creating a random tensor"
      ],
      "metadata": {
        "id": "pHmK7olgzH4n"
      }
    },
    {
      "cell_type": "code",
      "source": [
        "random_tensor = torch.rand(3,4)\n",
        "random_tensor"
      ],
      "metadata": {
        "colab": {
          "base_uri": "https://localhost:8080/"
        },
        "id": "EXO47lQnzPMs",
        "outputId": "6a69bfb6-981c-4695-cf74-6bba95409963"
      },
      "execution_count": 85,
      "outputs": [
        {
          "output_type": "execute_result",
          "data": {
            "text/plain": [
              "tensor([[0.3686, 0.8281, 0.9737, 0.7176],\n",
              "        [0.5479, 0.9274, 0.3354, 0.1242],\n",
              "        [0.7117, 0.4353, 0.2075, 0.9886]])"
            ]
          },
          "metadata": {},
          "execution_count": 85
        }
      ]
    },
    {
      "cell_type": "code",
      "source": [
        "random_tensor.ndim"
      ],
      "metadata": {
        "colab": {
          "base_uri": "https://localhost:8080/"
        },
        "id": "Pk2X-wO20y3d",
        "outputId": "73225ca9-4446-45de-c8df-9dbb98bad1d8"
      },
      "execution_count": 86,
      "outputs": [
        {
          "output_type": "execute_result",
          "data": {
            "text/plain": [
              "2"
            ]
          },
          "metadata": {},
          "execution_count": 86
        }
      ]
    },
    {
      "cell_type": "code",
      "source": [
        "# create a random tensor with similar shape to an image tensor\n",
        "random_image_size_tensor = torch.rand(size=(224,224,3)) # height, width, no. of color channels\n",
        "random_image_size_tensor, random_image_size_tensor.ndim"
      ],
      "metadata": {
        "colab": {
          "base_uri": "https://localhost:8080/"
        },
        "id": "rjZSYABY02uZ",
        "outputId": "576fa3cb-aa13-47af-e60d-d0346ce3cd33"
      },
      "execution_count": 87,
      "outputs": [
        {
          "output_type": "execute_result",
          "data": {
            "text/plain": [
              "(tensor([[[0.2161, 0.5879, 0.4903],\n",
              "          [0.5778, 0.8739, 0.7024],\n",
              "          [0.4938, 0.2191, 0.4000],\n",
              "          ...,\n",
              "          [0.9633, 0.4610, 0.8116],\n",
              "          [0.8118, 0.8436, 0.0286],\n",
              "          [0.8168, 0.8690, 0.8449]],\n",
              " \n",
              "         [[0.4825, 0.1066, 0.9715],\n",
              "          [0.5145, 0.2943, 0.3636],\n",
              "          [0.2034, 0.5858, 0.3541],\n",
              "          ...,\n",
              "          [0.1497, 0.3268, 0.4932],\n",
              "          [0.1509, 0.9787, 0.4779],\n",
              "          [0.9473, 0.8605, 0.6922]],\n",
              " \n",
              "         [[0.3316, 0.0224, 0.7659],\n",
              "          [0.4636, 0.5986, 0.0751],\n",
              "          [0.6305, 0.4579, 0.5113],\n",
              "          ...,\n",
              "          [0.3330, 0.4029, 0.2457],\n",
              "          [0.5878, 0.0962, 0.4000],\n",
              "          [0.0660, 0.1958, 0.1633]],\n",
              " \n",
              "         ...,\n",
              " \n",
              "         [[0.4426, 0.0018, 0.9599],\n",
              "          [0.2779, 0.2204, 0.1541],\n",
              "          [0.2201, 0.2618, 0.2820],\n",
              "          ...,\n",
              "          [0.5981, 0.7883, 0.0762],\n",
              "          [0.8374, 0.2121, 0.6624],\n",
              "          [0.6465, 0.2639, 0.5528]],\n",
              " \n",
              "         [[0.5633, 0.2136, 0.9334],\n",
              "          [0.9611, 0.1812, 0.6818],\n",
              "          [0.5302, 0.8682, 0.6814],\n",
              "          ...,\n",
              "          [0.5774, 0.0835, 0.0652],\n",
              "          [0.7749, 0.6989, 0.1022],\n",
              "          [0.6602, 0.2398, 0.0582]],\n",
              " \n",
              "         [[0.0447, 0.6907, 0.5005],\n",
              "          [0.1408, 0.0643, 0.6797],\n",
              "          [0.8439, 0.3019, 0.8939],\n",
              "          ...,\n",
              "          [0.5847, 0.5747, 0.8386],\n",
              "          [0.3250, 0.5938, 0.4229],\n",
              "          [0.6467, 0.8966, 0.4899]]]),\n",
              " 3)"
            ]
          },
          "metadata": {},
          "execution_count": 87
        }
      ]
    },
    {
      "cell_type": "markdown",
      "source": [
        "Tensors with 0s and 1s"
      ],
      "metadata": {
        "id": "qCyMUF-G6aB1"
      }
    },
    {
      "cell_type": "code",
      "source": [
        "zeros = torch.zeros(3,4)\n",
        "zeros"
      ],
      "metadata": {
        "colab": {
          "base_uri": "https://localhost:8080/"
        },
        "id": "PndIww4r6eHz",
        "outputId": "484deafa-fc7a-49b1-ce30-661a916f964a"
      },
      "execution_count": 88,
      "outputs": [
        {
          "output_type": "execute_result",
          "data": {
            "text/plain": [
              "tensor([[0., 0., 0., 0.],\n",
              "        [0., 0., 0., 0.],\n",
              "        [0., 0., 0., 0.]])"
            ]
          },
          "metadata": {},
          "execution_count": 88
        }
      ]
    },
    {
      "cell_type": "code",
      "source": [
        "ones = torch.ones(3,4)\n",
        "ones"
      ],
      "metadata": {
        "colab": {
          "base_uri": "https://localhost:8080/"
        },
        "id": "RBSJZBgS63FZ",
        "outputId": "2a25a72b-8ab7-4890-991e-22f7a28bb057"
      },
      "execution_count": 89,
      "outputs": [
        {
          "output_type": "execute_result",
          "data": {
            "text/plain": [
              "tensor([[1., 1., 1., 1.],\n",
              "        [1., 1., 1., 1.],\n",
              "        [1., 1., 1., 1.]])"
            ]
          },
          "metadata": {},
          "execution_count": 89
        }
      ]
    },
    {
      "cell_type": "code",
      "source": [
        "ones.dtype"
      ],
      "metadata": {
        "colab": {
          "base_uri": "https://localhost:8080/"
        },
        "id": "8n3jpOrm7AYc",
        "outputId": "770fdb02-b70d-4cd2-f0b4-a5593d15a51b"
      },
      "execution_count": 90,
      "outputs": [
        {
          "output_type": "execute_result",
          "data": {
            "text/plain": [
              "torch.float32"
            ]
          },
          "metadata": {},
          "execution_count": 90
        }
      ]
    },
    {
      "cell_type": "code",
      "source": [
        "torch.arange(0,10)"
      ],
      "metadata": {
        "colab": {
          "base_uri": "https://localhost:8080/"
        },
        "id": "CdMab3Ps7WqT",
        "outputId": "2c219889-c5b3-48e3-bc8c-5a1a127e5af9"
      },
      "execution_count": 91,
      "outputs": [
        {
          "output_type": "execute_result",
          "data": {
            "text/plain": [
              "tensor([0, 1, 2, 3, 4, 5, 6, 7, 8, 9])"
            ]
          },
          "metadata": {},
          "execution_count": 91
        }
      ]
    },
    {
      "cell_type": "markdown",
      "source": [
        "<h3>Tensor data-types</h3>"
      ],
      "metadata": {
        "id": "PWaHwmba9lIo"
      }
    },
    {
      "cell_type": "code",
      "source": [
        "tensor_float_32 = torch.tensor([3.0,6.0,9.0],dtype=None)\n",
        "tensor_float_32\n",
        "tensor_float_32.dtype # more precision (single precision)"
      ],
      "metadata": {
        "colab": {
          "base_uri": "https://localhost:8080/"
        },
        "id": "_eks0VJC9oI3",
        "outputId": "613ebee1-c429-4eda-fd18-ef3157e6bbe7"
      },
      "execution_count": 92,
      "outputs": [
        {
          "output_type": "execute_result",
          "data": {
            "text/plain": [
              "torch.float32"
            ]
          },
          "metadata": {},
          "execution_count": 92
        }
      ]
    },
    {
      "cell_type": "code",
      "source": [
        "tensor_float_16 = torch.tensor([3.0,6.0,9.0],dtype=torch.float16)\n",
        "tensor_float_16.dtype # less memory, faster calculation (half precision)"
      ],
      "metadata": {
        "colab": {
          "base_uri": "https://localhost:8080/"
        },
        "id": "4bxUTiCb-dtx",
        "outputId": "d31d15d9-745d-418d-e322-1417c7f37893"
      },
      "execution_count": 93,
      "outputs": [
        {
          "output_type": "execute_result",
          "data": {
            "text/plain": [
              "torch.float16"
            ]
          },
          "metadata": {},
          "execution_count": 93
        }
      ]
    },
    {
      "cell_type": "code",
      "source": [
        "tensor_float_16 = torch.tensor([3.0,6.0,9.0],\n",
        "                               dtype=torch.float16, # what datatype is the tensor\n",
        "                               device=\"cpu\", # which device is the tensor on\n",
        "                               requires_grad=False) # whether or not to track gradients with this tensor's operations"
      ],
      "metadata": {
        "id": "pXRjjxRv_Ls6"
      },
      "execution_count": 94,
      "outputs": []
    },
    {
      "cell_type": "markdown",
      "source": [
        "Changing dtype"
      ],
      "metadata": {
        "id": "h9Il7GskAqqY"
      }
    },
    {
      "cell_type": "code",
      "source": [
        "tensor_float_16 = tensor_float_32.type(torch.half)\n",
        "tensor_float_16.dtype"
      ],
      "metadata": {
        "colab": {
          "base_uri": "https://localhost:8080/"
        },
        "id": "TwGClDjHAuWp",
        "outputId": "fda90982-fdd3-4702-f684-0a81c081315c"
      },
      "execution_count": 95,
      "outputs": [
        {
          "output_type": "execute_result",
          "data": {
            "text/plain": [
              "torch.float16"
            ]
          },
          "metadata": {},
          "execution_count": 95
        }
      ]
    },
    {
      "cell_type": "markdown",
      "source": [
        "Precision: https://en.wikipedia.org/wiki/Precision_(computer_science)"
      ],
      "metadata": {
        "id": "IrCQgihuBMxt"
      }
    },
    {
      "cell_type": "markdown",
      "source": [
        "<h3>Tensor Attributes</h3>"
      ],
      "metadata": {
        "id": "NOmLtTjdBhfE"
      }
    },
    {
      "cell_type": "markdown",
      "source": [
        "\n",
        "\n",
        "* tensor.dtype\n",
        "* tensor.shape\n",
        "* tensor.device\n",
        "\n"
      ],
      "metadata": {
        "id": "aZszz9EvDLfr"
      }
    },
    {
      "cell_type": "code",
      "source": [
        "tensor = torch.rand(3,4)"
      ],
      "metadata": {
        "id": "3QA_H1I4DauZ"
      },
      "execution_count": 96,
      "outputs": []
    },
    {
      "cell_type": "code",
      "source": [
        "tensor.dtype, tensor.shape, tensor.device"
      ],
      "metadata": {
        "colab": {
          "base_uri": "https://localhost:8080/"
        },
        "id": "C4l2r2XlBPra",
        "outputId": "e3d8737b-8abc-4546-fdf5-bd0d657f2a11"
      },
      "execution_count": 97,
      "outputs": [
        {
          "output_type": "execute_result",
          "data": {
            "text/plain": [
              "(torch.float32, torch.Size([3, 4]), device(type='cpu'))"
            ]
          },
          "metadata": {},
          "execution_count": 97
        }
      ]
    },
    {
      "cell_type": "markdown",
      "source": [
        "<h3>Tensor Operations</h3>"
      ],
      "metadata": {
        "id": "O39gqeyqD9q-"
      }
    },
    {
      "cell_type": "code",
      "source": [
        "tensor = torch.tensor([1,2,3])"
      ],
      "metadata": {
        "id": "XBP4YdFhEA6k"
      },
      "execution_count": 98,
      "outputs": []
    },
    {
      "cell_type": "markdown",
      "source": [
        "Addition"
      ],
      "metadata": {
        "id": "ohfD3ttxOzsY"
      }
    },
    {
      "cell_type": "code",
      "source": [
        "tensor+10"
      ],
      "metadata": {
        "colab": {
          "base_uri": "https://localhost:8080/"
        },
        "id": "dt1WSv01OzF_",
        "outputId": "4abae8ce-6b89-4e03-ce9c-487b92f6b47b"
      },
      "execution_count": 99,
      "outputs": [
        {
          "output_type": "execute_result",
          "data": {
            "text/plain": [
              "tensor([11, 12, 13])"
            ]
          },
          "metadata": {},
          "execution_count": 99
        }
      ]
    },
    {
      "cell_type": "code",
      "source": [
        "torch.add(tensor,10)"
      ],
      "metadata": {
        "colab": {
          "base_uri": "https://localhost:8080/"
        },
        "id": "p3Q98E2aPjWI",
        "outputId": "0cdca200-9ab0-4f3b-cb18-a1f1990b413e"
      },
      "execution_count": 100,
      "outputs": [
        {
          "output_type": "execute_result",
          "data": {
            "text/plain": [
              "tensor([11, 12, 13])"
            ]
          },
          "metadata": {},
          "execution_count": 100
        }
      ]
    },
    {
      "cell_type": "markdown",
      "source": [
        "Multiplication"
      ],
      "metadata": {
        "id": "ioTAaSnXPnuj"
      }
    },
    {
      "cell_type": "code",
      "source": [
        "tensor*10"
      ],
      "metadata": {
        "colab": {
          "base_uri": "https://localhost:8080/"
        },
        "id": "qz6lLljTPMiN",
        "outputId": "b1b67440-7379-495d-854a-4730cb97bb73"
      },
      "execution_count": 101,
      "outputs": [
        {
          "output_type": "execute_result",
          "data": {
            "text/plain": [
              "tensor([10, 20, 30])"
            ]
          },
          "metadata": {},
          "execution_count": 101
        }
      ]
    },
    {
      "cell_type": "code",
      "source": [
        "torch.mul(tensor,10)"
      ],
      "metadata": {
        "colab": {
          "base_uri": "https://localhost:8080/"
        },
        "id": "gjSkdaZKPbEv",
        "outputId": "ad83c5fc-f14a-4892-d559-bef6535ec7d1"
      },
      "execution_count": 102,
      "outputs": [
        {
          "output_type": "execute_result",
          "data": {
            "text/plain": [
              "tensor([10, 20, 30])"
            ]
          },
          "metadata": {},
          "execution_count": 102
        }
      ]
    },
    {
      "cell_type": "markdown",
      "source": [
        "Subtraction"
      ],
      "metadata": {
        "id": "LTP2a1usPqev"
      }
    },
    {
      "cell_type": "code",
      "source": [
        "tensor-10"
      ],
      "metadata": {
        "colab": {
          "base_uri": "https://localhost:8080/"
        },
        "id": "ra7mnHPsPO8E",
        "outputId": "7c1781c3-4f8a-4020-975a-6bba5aa2f8fd"
      },
      "execution_count": 103,
      "outputs": [
        {
          "output_type": "execute_result",
          "data": {
            "text/plain": [
              "tensor([-9, -8, -7])"
            ]
          },
          "metadata": {},
          "execution_count": 103
        }
      ]
    },
    {
      "cell_type": "markdown",
      "source": [
        "Matrix Multiplication"
      ],
      "metadata": {
        "id": "aIRW2Xu6QCW8"
      }
    },
    {
      "cell_type": "markdown",
      "source": [
        "\n",
        "\n",
        "*   Element-wise multiplication: a scalar value is multiplied by each element in the matrix\n",
        "*   Matrix multiplication: dot product\n",
        "\n"
      ],
      "metadata": {
        "id": "Do2JQ2a0TZTv"
      }
    },
    {
      "cell_type": "code",
      "source": [
        "# element wise\n",
        "print(tensor, \"*\", tensor)\n",
        "print(f\"Equals: {tensor*tensor}\")"
      ],
      "metadata": {
        "colab": {
          "base_uri": "https://localhost:8080/"
        },
        "id": "PfLeTycRTYqZ",
        "outputId": "9dfed9ea-a7f0-40b8-f91f-1f99f8538c55"
      },
      "execution_count": 104,
      "outputs": [
        {
          "output_type": "stream",
          "name": "stdout",
          "text": [
            "tensor([1, 2, 3]) * tensor([1, 2, 3])\n",
            "Equals: tensor([1, 4, 9])\n"
          ]
        }
      ]
    },
    {
      "cell_type": "code",
      "source": [
        "# matrix multiplication\n",
        "torch.matmul(tensor,tensor)"
      ],
      "metadata": {
        "colab": {
          "base_uri": "https://localhost:8080/"
        },
        "id": "reOOs-XiQE0u",
        "outputId": "5c030ba7-f6de-4b17-ebd8-078dae98d1f9"
      },
      "execution_count": 105,
      "outputs": [
        {
          "output_type": "execute_result",
          "data": {
            "text/plain": [
              "tensor(14)"
            ]
          },
          "metadata": {},
          "execution_count": 105
        }
      ]
    },
    {
      "cell_type": "markdown",
      "source": [
        "Inner dimensions must match for matmul"
      ],
      "metadata": {
        "id": "r9a3CUUpXp83"
      }
    },
    {
      "cell_type": "code",
      "source": [
        "tensor1 = torch.rand(3,2)\n",
        "tensor1"
      ],
      "metadata": {
        "colab": {
          "base_uri": "https://localhost:8080/"
        },
        "id": "oXU2VPlDXYMq",
        "outputId": "d7119d33-8ded-4d62-bdf6-e8a6cdd72b33"
      },
      "execution_count": 106,
      "outputs": [
        {
          "output_type": "execute_result",
          "data": {
            "text/plain": [
              "tensor([[0.1949, 0.6507],\n",
              "        [0.9212, 0.8866],\n",
              "        [0.9282, 0.4269]])"
            ]
          },
          "metadata": {},
          "execution_count": 106
        }
      ]
    },
    {
      "cell_type": "code",
      "source": [
        "tensor1.shape"
      ],
      "metadata": {
        "colab": {
          "base_uri": "https://localhost:8080/"
        },
        "id": "c3mB3UXNXe0Y",
        "outputId": "24aff871-d0fb-4dc5-ebfc-d5ea98c1c19b"
      },
      "execution_count": 107,
      "outputs": [
        {
          "output_type": "execute_result",
          "data": {
            "text/plain": [
              "torch.Size([3, 2])"
            ]
          },
          "metadata": {},
          "execution_count": 107
        }
      ]
    },
    {
      "cell_type": "code",
      "source": [
        "tensor2 = torch.rand(2,3)\n",
        "tensor2"
      ],
      "metadata": {
        "colab": {
          "base_uri": "https://localhost:8080/"
        },
        "id": "W9zBnIcpXiR0",
        "outputId": "9ef7864b-7249-4527-bc3a-c5c7842aef40"
      },
      "execution_count": 108,
      "outputs": [
        {
          "output_type": "execute_result",
          "data": {
            "text/plain": [
              "tensor([[0.2376, 0.6485, 0.8318],\n",
              "        [0.1696, 0.3472, 0.9051]])"
            ]
          },
          "metadata": {},
          "execution_count": 108
        }
      ]
    },
    {
      "cell_type": "code",
      "source": [
        "tensor2.shape"
      ],
      "metadata": {
        "colab": {
          "base_uri": "https://localhost:8080/"
        },
        "id": "HHf8iPK4XpAv",
        "outputId": "aa3868b7-06f5-4114-9b97-22eb83119003"
      },
      "execution_count": 109,
      "outputs": [
        {
          "output_type": "execute_result",
          "data": {
            "text/plain": [
              "torch.Size([2, 3])"
            ]
          },
          "metadata": {},
          "execution_count": 109
        }
      ]
    },
    {
      "cell_type": "code",
      "source": [
        "torch.matmul(tensor2,tensor1)"
      ],
      "metadata": {
        "colab": {
          "base_uri": "https://localhost:8080/"
        },
        "id": "lCkKDbFhXwXA",
        "outputId": "b8fbf602-f3f7-4d4e-8d23-77623f7683a1"
      },
      "execution_count": 110,
      "outputs": [
        {
          "output_type": "execute_result",
          "data": {
            "text/plain": [
              "tensor([[1.4157, 1.0846],\n",
              "        [1.1929, 0.8045]])"
            ]
          },
          "metadata": {},
          "execution_count": 110
        }
      ]
    },
    {
      "cell_type": "code",
      "source": [
        "torch.matmul(tensor1,tensor2)"
      ],
      "metadata": {
        "colab": {
          "base_uri": "https://localhost:8080/"
        },
        "id": "NNYbkdRLX34_",
        "outputId": "0e7d56c7-e038-4a58-b99b-4168d4c40a6a"
      },
      "execution_count": 111,
      "outputs": [
        {
          "output_type": "execute_result",
          "data": {
            "text/plain": [
              "tensor([[0.1567, 0.3523, 0.7511],\n",
              "        [0.3692, 0.9052, 1.5687],\n",
              "        [0.2929, 0.7501, 1.1583]])"
            ]
          },
          "metadata": {},
          "execution_count": 111
        }
      ]
    },
    {
      "cell_type": "code",
      "source": [
        "tensor3 = torch.rand(4,3)\n",
        "tensor3, tensor3.shape"
      ],
      "metadata": {
        "colab": {
          "base_uri": "https://localhost:8080/"
        },
        "id": "5lfsFpnqYDHc",
        "outputId": "be21c72d-70eb-4506-89c9-16c5d86def45"
      },
      "execution_count": 112,
      "outputs": [
        {
          "output_type": "execute_result",
          "data": {
            "text/plain": [
              "(tensor([[0.7447, 0.1910, 0.5963],\n",
              "         [0.1107, 0.3636, 0.2617],\n",
              "         [0.3518, 0.6782, 0.9697],\n",
              "         [0.6294, 0.4944, 0.2056]]),\n",
              " torch.Size([4, 3]))"
            ]
          },
          "metadata": {},
          "execution_count": 112
        }
      ]
    },
    {
      "cell_type": "code",
      "source": [
        "torch.matmul(tensor3,tensor1)"
      ],
      "metadata": {
        "colab": {
          "base_uri": "https://localhost:8080/"
        },
        "id": "SIAhF83nYnTQ",
        "outputId": "ce330471-fab7-4a48-b50b-0308acdf37ad"
      },
      "execution_count": 113,
      "outputs": [
        {
          "output_type": "execute_result",
          "data": {
            "text/plain": [
              "tensor([[0.8745, 0.9085],\n",
              "        [0.5994, 0.5061],\n",
              "        [1.5934, 1.2442],\n",
              "        [0.7689, 0.9356]])"
            ]
          },
          "metadata": {},
          "execution_count": 113
        }
      ]
    },
    {
      "cell_type": "code",
      "source": [
        "# torch.matmul(tensor3,tensor2)\n",
        "# inner dimensions do not match\n",
        "# (4x3 and 2x3)"
      ],
      "metadata": {
        "id": "IdR_4WLZYpFT"
      },
      "execution_count": 114,
      "outputs": []
    },
    {
      "cell_type": "markdown",
      "source": [
        "Dealing with tensor shape errors: Transpose"
      ],
      "metadata": {
        "id": "GeUJUrhFZMTz"
      }
    },
    {
      "cell_type": "code",
      "source": [
        "tensor2.T"
      ],
      "metadata": {
        "colab": {
          "base_uri": "https://localhost:8080/"
        },
        "id": "8hX2jN7UZPOj",
        "outputId": "aeb715ce-096f-4306-eef9-22e882180915"
      },
      "execution_count": 115,
      "outputs": [
        {
          "output_type": "execute_result",
          "data": {
            "text/plain": [
              "tensor([[0.2376, 0.1696],\n",
              "        [0.6485, 0.3472],\n",
              "        [0.8318, 0.9051]])"
            ]
          },
          "metadata": {},
          "execution_count": 115
        }
      ]
    },
    {
      "cell_type": "code",
      "source": [
        "tensor2.T.shape"
      ],
      "metadata": {
        "colab": {
          "base_uri": "https://localhost:8080/"
        },
        "id": "7Xs_KbyiaOHN",
        "outputId": "bf5a4207-3cde-475c-a3ef-874c69ac5346"
      },
      "execution_count": 116,
      "outputs": [
        {
          "output_type": "execute_result",
          "data": {
            "text/plain": [
              "torch.Size([3, 2])"
            ]
          },
          "metadata": {},
          "execution_count": 116
        }
      ]
    },
    {
      "cell_type": "code",
      "source": [
        "torch.matmul(tensor3,tensor2.T)"
      ],
      "metadata": {
        "colab": {
          "base_uri": "https://localhost:8080/"
        },
        "id": "mFL8rkfYaeHh",
        "outputId": "b0e68200-694d-4910-80e6-e8a30703dbf0"
      },
      "execution_count": 117,
      "outputs": [
        {
          "output_type": "execute_result",
          "data": {
            "text/plain": [
              "tensor([[0.7968, 0.7323],\n",
              "        [0.4798, 0.3819],\n",
              "        [1.3300, 1.1728],\n",
              "        [0.6411, 0.4644]])"
            ]
          },
          "metadata": {},
          "execution_count": 117
        }
      ]
    },
    {
      "cell_type": "markdown",
      "source": [
        "<h3>Tensor Aggregation</h3>"
      ],
      "metadata": {
        "id": "avkm9hEVbPxa"
      }
    },
    {
      "cell_type": "code",
      "source": [
        "x = torch.rand(4,4)\n",
        "x"
      ],
      "metadata": {
        "colab": {
          "base_uri": "https://localhost:8080/"
        },
        "id": "isKwPEu7bbQM",
        "outputId": "d3ffbe33-ecd6-4891-e801-b4561d215fbf"
      },
      "execution_count": 118,
      "outputs": [
        {
          "output_type": "execute_result",
          "data": {
            "text/plain": [
              "tensor([[0.5764, 0.3028, 0.2594, 0.3727],\n",
              "        [0.0359, 0.1020, 0.2792, 0.6929],\n",
              "        [0.4388, 0.7658, 0.4224, 0.7634],\n",
              "        [0.9089, 0.7659, 0.5871, 0.0122]])"
            ]
          },
          "metadata": {},
          "execution_count": 118
        }
      ]
    },
    {
      "cell_type": "code",
      "source": [
        "# min\n",
        "torch.min(x)"
      ],
      "metadata": {
        "colab": {
          "base_uri": "https://localhost:8080/"
        },
        "id": "DrATtd-qbTry",
        "outputId": "7045c37a-a2aa-4933-f486-ced458c23473"
      },
      "execution_count": 119,
      "outputs": [
        {
          "output_type": "execute_result",
          "data": {
            "text/plain": [
              "tensor(0.0122)"
            ]
          },
          "metadata": {},
          "execution_count": 119
        }
      ]
    },
    {
      "cell_type": "code",
      "source": [
        "# max\n",
        "torch.max(x)"
      ],
      "metadata": {
        "colab": {
          "base_uri": "https://localhost:8080/"
        },
        "id": "2JsdnXU1bpem",
        "outputId": "dd2d4140-e6d7-479d-9802-5b8922a649e9"
      },
      "execution_count": 120,
      "outputs": [
        {
          "output_type": "execute_result",
          "data": {
            "text/plain": [
              "tensor(0.9089)"
            ]
          },
          "metadata": {},
          "execution_count": 120
        }
      ]
    },
    {
      "cell_type": "code",
      "source": [
        "#sum\n",
        "torch.sum(x)"
      ],
      "metadata": {
        "colab": {
          "base_uri": "https://localhost:8080/"
        },
        "id": "ODqvKnHWcSTe",
        "outputId": "4d794cf0-5958-4ba9-9cdd-f0dd584c6125"
      },
      "execution_count": 121,
      "outputs": [
        {
          "output_type": "execute_result",
          "data": {
            "text/plain": [
              "tensor(7.2857)"
            ]
          },
          "metadata": {},
          "execution_count": 121
        }
      ]
    },
    {
      "cell_type": "code",
      "source": [
        "# average\n",
        "torch.mean(x)"
      ],
      "metadata": {
        "colab": {
          "base_uri": "https://localhost:8080/"
        },
        "id": "dFdNw9aScYcL",
        "outputId": "13270dc8-94c5-4ab1-d78f-ac0f71303c49"
      },
      "execution_count": 122,
      "outputs": [
        {
          "output_type": "execute_result",
          "data": {
            "text/plain": [
              "tensor(0.4554)"
            ]
          },
          "metadata": {},
          "execution_count": 122
        }
      ]
    },
    {
      "cell_type": "code",
      "source": [
        "# positional min - returns index of min value\n",
        "torch.argmin(x)"
      ],
      "metadata": {
        "colab": {
          "base_uri": "https://localhost:8080/"
        },
        "id": "ps6FKTV-LGlM",
        "outputId": "62f22a4a-3967-4b5b-e143-4cecc4878108"
      },
      "execution_count": 123,
      "outputs": [
        {
          "output_type": "execute_result",
          "data": {
            "text/plain": [
              "tensor(15)"
            ]
          },
          "metadata": {},
          "execution_count": 123
        }
      ]
    },
    {
      "cell_type": "code",
      "source": [
        "# x[0][4]"
      ],
      "metadata": {
        "id": "XquCZAgdLgk9"
      },
      "execution_count": 124,
      "outputs": []
    },
    {
      "cell_type": "markdown",
      "source": [
        "* Reshape - reshapes an input tensor to defined shape\n",
        "* view - return a view of an input tensor of certain shape but keep the same memory as the original tensor\n",
        "* Stacking - combine multiple tensors on top of each other (vstack) or side by side (hstack)\n",
        "* Squeeze - remove all 1 dimensions from a tensor\n",
        "* Unsqueeze - add a 1 dimension to a target tensor\n",
        "* Permute - return a view of the input with dimensions permuted (swapped) in a certain way"
      ],
      "metadata": {
        "id": "iYyo8I_lMQF9"
      }
    },
    {
      "cell_type": "markdown",
      "source": [
        "Reshape (has to be compatible with size (no. of elements should remain same))"
      ],
      "metadata": {
        "id": "_JpMRHr-YB0Q"
      }
    },
    {
      "cell_type": "code",
      "source": [
        "x = torch.arange(1.0,13.0)\n",
        "x, x.shape"
      ],
      "metadata": {
        "colab": {
          "base_uri": "https://localhost:8080/"
        },
        "id": "MKEg5XboW2t8",
        "outputId": "caa06eba-fd21-47d5-a86a-936f12eba2ee"
      },
      "execution_count": 125,
      "outputs": [
        {
          "output_type": "execute_result",
          "data": {
            "text/plain": [
              "(tensor([ 1.,  2.,  3.,  4.,  5.,  6.,  7.,  8.,  9., 10., 11., 12.]),\n",
              " torch.Size([12]))"
            ]
          },
          "metadata": {},
          "execution_count": 125
        }
      ]
    },
    {
      "cell_type": "code",
      "source": [
        "x_reshaped = x.reshape(3,4)\n",
        "x_reshaped, x_reshaped.shape"
      ],
      "metadata": {
        "colab": {
          "base_uri": "https://localhost:8080/"
        },
        "id": "d9wP0L2FXfZr",
        "outputId": "8a05ea3f-acf0-41d1-d979-b94c2488b92a"
      },
      "execution_count": 126,
      "outputs": [
        {
          "output_type": "execute_result",
          "data": {
            "text/plain": [
              "(tensor([[ 1.,  2.,  3.,  4.],\n",
              "         [ 5.,  6.,  7.,  8.],\n",
              "         [ 9., 10., 11., 12.]]),\n",
              " torch.Size([3, 4]))"
            ]
          },
          "metadata": {},
          "execution_count": 126
        }
      ]
    },
    {
      "cell_type": "markdown",
      "source": [
        "View"
      ],
      "metadata": {
        "id": "67Fjp5heYnUO"
      }
    },
    {
      "cell_type": "code",
      "source": [
        "# changing z changes x\n",
        "z = x.view(1,12)\n",
        "z, z.shape"
      ],
      "metadata": {
        "colab": {
          "base_uri": "https://localhost:8080/"
        },
        "id": "UnQI4-TOYobG",
        "outputId": "8d29e883-1cc9-4bc7-e211-4cef6289e2cc"
      },
      "execution_count": 127,
      "outputs": [
        {
          "output_type": "execute_result",
          "data": {
            "text/plain": [
              "(tensor([[ 1.,  2.,  3.,  4.,  5.,  6.,  7.,  8.,  9., 10., 11., 12.]]),\n",
              " torch.Size([1, 12]))"
            ]
          },
          "metadata": {},
          "execution_count": 127
        }
      ]
    },
    {
      "cell_type": "code",
      "source": [
        "z[:,0] = 5\n",
        "z,x"
      ],
      "metadata": {
        "colab": {
          "base_uri": "https://localhost:8080/"
        },
        "id": "QtTV7RiPZZpY",
        "outputId": "ccba618b-ede1-4bd4-d9a2-7d78b96dde3c"
      },
      "execution_count": 128,
      "outputs": [
        {
          "output_type": "execute_result",
          "data": {
            "text/plain": [
              "(tensor([[ 5.,  2.,  3.,  4.,  5.,  6.,  7.,  8.,  9., 10., 11., 12.]]),\n",
              " tensor([ 5.,  2.,  3.,  4.,  5.,  6.,  7.,  8.,  9., 10., 11., 12.]))"
            ]
          },
          "metadata": {},
          "execution_count": 128
        }
      ]
    },
    {
      "cell_type": "markdown",
      "source": [
        "Stack tensors on top"
      ],
      "metadata": {
        "id": "SMCw4JQAZpgl"
      }
    },
    {
      "cell_type": "code",
      "source": [
        "x_stacked = torch.stack([x,x,x,x],dim=0)\n",
        "x_stacked\n",
        "\n",
        "# dim = 0 vstack\n",
        "# dim = 1 htsack"
      ],
      "metadata": {
        "colab": {
          "base_uri": "https://localhost:8080/"
        },
        "id": "Ty8W4AHeZsrU",
        "outputId": "6e105741-2bcd-4b6a-abbe-c09f9042a292"
      },
      "execution_count": 129,
      "outputs": [
        {
          "output_type": "execute_result",
          "data": {
            "text/plain": [
              "tensor([[ 5.,  2.,  3.,  4.,  5.,  6.,  7.,  8.,  9., 10., 11., 12.],\n",
              "        [ 5.,  2.,  3.,  4.,  5.,  6.,  7.,  8.,  9., 10., 11., 12.],\n",
              "        [ 5.,  2.,  3.,  4.,  5.,  6.,  7.,  8.,  9., 10., 11., 12.],\n",
              "        [ 5.,  2.,  3.,  4.,  5.,  6.,  7.,  8.,  9., 10., 11., 12.]])"
            ]
          },
          "metadata": {},
          "execution_count": 129
        }
      ]
    },
    {
      "cell_type": "markdown",
      "source": [
        "Squeeze"
      ],
      "metadata": {
        "id": "DTkQJMqmbMTS"
      }
    },
    {
      "cell_type": "code",
      "source": [
        "x_try = torch.arange(1.,10.)\n",
        "x_try"
      ],
      "metadata": {
        "colab": {
          "base_uri": "https://localhost:8080/"
        },
        "id": "0Y-T7dI7cVdX",
        "outputId": "accd12ef-4f12-47f5-9451-8cf9d35e6c8d"
      },
      "execution_count": 130,
      "outputs": [
        {
          "output_type": "execute_result",
          "data": {
            "text/plain": [
              "tensor([1., 2., 3., 4., 5., 6., 7., 8., 9.])"
            ]
          },
          "metadata": {},
          "execution_count": 130
        }
      ]
    },
    {
      "cell_type": "code",
      "source": [
        "x_reshaped = x_try.reshape(1,9)\n",
        "x_reshaped"
      ],
      "metadata": {
        "colab": {
          "base_uri": "https://localhost:8080/"
        },
        "id": "XEH1EMxzcyOQ",
        "outputId": "39324537-6401-40b1-9393-6e09e56cebd0"
      },
      "execution_count": 131,
      "outputs": [
        {
          "output_type": "execute_result",
          "data": {
            "text/plain": [
              "tensor([[1., 2., 3., 4., 5., 6., 7., 8., 9.]])"
            ]
          },
          "metadata": {},
          "execution_count": 131
        }
      ]
    },
    {
      "cell_type": "code",
      "source": [
        "x_reshaped.shape"
      ],
      "metadata": {
        "colab": {
          "base_uri": "https://localhost:8080/"
        },
        "id": "eZLz8GgrbPAz",
        "outputId": "d296d953-c8a0-42fe-b9ae-9f553fee16b0"
      },
      "execution_count": 132,
      "outputs": [
        {
          "output_type": "execute_result",
          "data": {
            "text/plain": [
              "torch.Size([1, 9])"
            ]
          },
          "metadata": {},
          "execution_count": 132
        }
      ]
    },
    {
      "cell_type": "code",
      "source": [
        "x_squeezed = x_reshaped.squeeze()\n",
        "x_squeezed"
      ],
      "metadata": {
        "id": "CB4fBQj8bTpE",
        "colab": {
          "base_uri": "https://localhost:8080/"
        },
        "outputId": "3ee36f79-68e7-4335-80f9-a7c7b9b22d7a"
      },
      "execution_count": 133,
      "outputs": [
        {
          "output_type": "execute_result",
          "data": {
            "text/plain": [
              "tensor([1., 2., 3., 4., 5., 6., 7., 8., 9.])"
            ]
          },
          "metadata": {},
          "execution_count": 133
        }
      ]
    },
    {
      "cell_type": "code",
      "source": [
        "x_reshaped.squeeze().shape"
      ],
      "metadata": {
        "colab": {
          "base_uri": "https://localhost:8080/"
        },
        "id": "jRdJCwllcMVT",
        "outputId": "b4f1a7f1-67e6-4c28-b15a-e336fbebdc59"
      },
      "execution_count": 134,
      "outputs": [
        {
          "output_type": "execute_result",
          "data": {
            "text/plain": [
              "torch.Size([9])"
            ]
          },
          "metadata": {},
          "execution_count": 134
        }
      ]
    },
    {
      "cell_type": "markdown",
      "source": [
        "Unsqueeze"
      ],
      "metadata": {
        "id": "SduECsDLdz2_"
      }
    },
    {
      "cell_type": "code",
      "source": [
        "x_unsqueezed = x_squeezed.unsqueeze(dim=1)\n",
        "x_unsqueezed"
      ],
      "metadata": {
        "colab": {
          "base_uri": "https://localhost:8080/"
        },
        "id": "DX8V3vDLd4XK",
        "outputId": "03622348-5593-47fb-bf08-7abfa1f29fd8"
      },
      "execution_count": 135,
      "outputs": [
        {
          "output_type": "execute_result",
          "data": {
            "text/plain": [
              "tensor([[1.],\n",
              "        [2.],\n",
              "        [3.],\n",
              "        [4.],\n",
              "        [5.],\n",
              "        [6.],\n",
              "        [7.],\n",
              "        [8.],\n",
              "        [9.]])"
            ]
          },
          "metadata": {},
          "execution_count": 135
        }
      ]
    },
    {
      "cell_type": "code",
      "source": [
        "x_unsqueezed.shape"
      ],
      "metadata": {
        "colab": {
          "base_uri": "https://localhost:8080/"
        },
        "id": "H1WRzkSGeL08",
        "outputId": "db9319d5-3dac-404f-96f1-3bb19054bc33"
      },
      "execution_count": 136,
      "outputs": [
        {
          "output_type": "execute_result",
          "data": {
            "text/plain": [
              "torch.Size([9, 1])"
            ]
          },
          "metadata": {},
          "execution_count": 136
        }
      ]
    },
    {
      "cell_type": "markdown",
      "source": [
        "Permute"
      ],
      "metadata": {
        "id": "95T3-ARRfHDu"
      }
    },
    {
      "cell_type": "code",
      "source": [
        "x_original = torch.rand(size=(224,224,3))\n",
        "x_original"
      ],
      "metadata": {
        "colab": {
          "base_uri": "https://localhost:8080/"
        },
        "id": "k2eKb1JVfIOb",
        "outputId": "fce0a944-c1a3-48ec-84b8-2e26d162cd3c"
      },
      "execution_count": 137,
      "outputs": [
        {
          "output_type": "execute_result",
          "data": {
            "text/plain": [
              "tensor([[[0.8049, 0.4136, 0.9505],\n",
              "         [0.8199, 0.0584, 0.3572],\n",
              "         [0.5487, 0.8062, 0.2325],\n",
              "         ...,\n",
              "         [0.7658, 0.9510, 0.2529],\n",
              "         [0.6475, 0.5427, 0.5481],\n",
              "         [0.5946, 0.6918, 0.3092]],\n",
              "\n",
              "        [[0.1031, 0.6904, 0.8118],\n",
              "         [0.0942, 0.1426, 0.5775],\n",
              "         [0.5247, 0.5826, 0.5827],\n",
              "         ...,\n",
              "         [0.0504, 0.5728, 0.6555],\n",
              "         [0.6974, 0.1632, 0.9450],\n",
              "         [0.3316, 0.1195, 0.8981]],\n",
              "\n",
              "        [[0.6901, 0.9047, 0.7059],\n",
              "         [0.8092, 0.9811, 0.8670],\n",
              "         [0.8233, 0.9193, 0.3989],\n",
              "         ...,\n",
              "         [0.3692, 0.7339, 0.2405],\n",
              "         [0.4717, 0.4833, 0.3484],\n",
              "         [0.0617, 0.9536, 0.0898]],\n",
              "\n",
              "        ...,\n",
              "\n",
              "        [[0.0169, 0.5650, 0.6875],\n",
              "         [0.0059, 0.2548, 0.9041],\n",
              "         [0.5183, 0.7767, 0.7895],\n",
              "         ...,\n",
              "         [0.2978, 0.7938, 0.5681],\n",
              "         [0.0760, 0.7132, 0.5136],\n",
              "         [0.1920, 0.7748, 0.0625]],\n",
              "\n",
              "        [[0.9411, 0.2168, 0.1661],\n",
              "         [0.5358, 0.4563, 0.7245],\n",
              "         [0.4511, 0.7961, 0.7281],\n",
              "         ...,\n",
              "         [0.4648, 0.5635, 0.9543],\n",
              "         [0.4910, 0.5822, 0.0086],\n",
              "         [0.4931, 0.3679, 0.3328]],\n",
              "\n",
              "        [[0.8052, 0.8131, 0.3374],\n",
              "         [0.8498, 0.6178, 0.0662],\n",
              "         [0.9521, 0.1416, 0.1832],\n",
              "         ...,\n",
              "         [0.9804, 0.6377, 0.7511],\n",
              "         [0.7560, 0.8579, 0.6665],\n",
              "         [0.1030, 0.1193, 0.5444]]])"
            ]
          },
          "metadata": {},
          "execution_count": 137
        }
      ]
    },
    {
      "cell_type": "code",
      "source": [
        "x_permuted = x_original.permute(2,0,1)\n",
        "# rearranging the indices - 2nd index first, 0th index second, 1st index third\n",
        "x_permuted"
      ],
      "metadata": {
        "id": "_QD3ZHdSfW2W",
        "outputId": "6c5bd256-66c6-4c0d-f7f8-9bdcd85e03a9",
        "colab": {
          "base_uri": "https://localhost:8080/"
        }
      },
      "execution_count": 139,
      "outputs": [
        {
          "output_type": "execute_result",
          "data": {
            "text/plain": [
              "tensor([[[0.8049, 0.8199, 0.5487,  ..., 0.7658, 0.6475, 0.5946],\n",
              "         [0.1031, 0.0942, 0.5247,  ..., 0.0504, 0.6974, 0.3316],\n",
              "         [0.6901, 0.8092, 0.8233,  ..., 0.3692, 0.4717, 0.0617],\n",
              "         ...,\n",
              "         [0.0169, 0.0059, 0.5183,  ..., 0.2978, 0.0760, 0.1920],\n",
              "         [0.9411, 0.5358, 0.4511,  ..., 0.4648, 0.4910, 0.4931],\n",
              "         [0.8052, 0.8498, 0.9521,  ..., 0.9804, 0.7560, 0.1030]],\n",
              "\n",
              "        [[0.4136, 0.0584, 0.8062,  ..., 0.9510, 0.5427, 0.6918],\n",
              "         [0.6904, 0.1426, 0.5826,  ..., 0.5728, 0.1632, 0.1195],\n",
              "         [0.9047, 0.9811, 0.9193,  ..., 0.7339, 0.4833, 0.9536],\n",
              "         ...,\n",
              "         [0.5650, 0.2548, 0.7767,  ..., 0.7938, 0.7132, 0.7748],\n",
              "         [0.2168, 0.4563, 0.7961,  ..., 0.5635, 0.5822, 0.3679],\n",
              "         [0.8131, 0.6178, 0.1416,  ..., 0.6377, 0.8579, 0.1193]],\n",
              "\n",
              "        [[0.9505, 0.3572, 0.2325,  ..., 0.2529, 0.5481, 0.3092],\n",
              "         [0.8118, 0.5775, 0.5827,  ..., 0.6555, 0.9450, 0.8981],\n",
              "         [0.7059, 0.8670, 0.3989,  ..., 0.2405, 0.3484, 0.0898],\n",
              "         ...,\n",
              "         [0.6875, 0.9041, 0.7895,  ..., 0.5681, 0.5136, 0.0625],\n",
              "         [0.1661, 0.7245, 0.7281,  ..., 0.9543, 0.0086, 0.3328],\n",
              "         [0.3374, 0.0662, 0.1832,  ..., 0.7511, 0.6665, 0.5444]]])"
            ]
          },
          "metadata": {},
          "execution_count": 139
        }
      ]
    },
    {
      "cell_type": "code",
      "source": [
        "x_original.shape, x_permuted.shape"
      ],
      "metadata": {
        "colab": {
          "base_uri": "https://localhost:8080/"
        },
        "id": "B-4EGu0s85QC",
        "outputId": "5c47904c-46d7-41ea-961b-a550e7dbe9fe"
      },
      "execution_count": 140,
      "outputs": [
        {
          "output_type": "execute_result",
          "data": {
            "text/plain": [
              "(torch.Size([224, 224, 3]), torch.Size([3, 224, 224]))"
            ]
          },
          "metadata": {},
          "execution_count": 140
        }
      ]
    },
    {
      "cell_type": "code",
      "source": [
        "x_original[0,0,0] = 0.6969\n",
        "x_original[0,0,0]"
      ],
      "metadata": {
        "colab": {
          "base_uri": "https://localhost:8080/"
        },
        "id": "jAWLuJYP9cKu",
        "outputId": "0ebb4ad6-99e3-4ca3-c717-d39a6b8e1e11"
      },
      "execution_count": 144,
      "outputs": [
        {
          "output_type": "execute_result",
          "data": {
            "text/plain": [
              "tensor(0.6969)"
            ]
          },
          "metadata": {},
          "execution_count": 144
        }
      ]
    },
    {
      "cell_type": "code",
      "source": [
        "x_permuted[0,0,0] # x_permuted is a view of x_original and thus shares memory"
      ],
      "metadata": {
        "colab": {
          "base_uri": "https://localhost:8080/"
        },
        "id": "J6fqWCxi-y07",
        "outputId": "5e6e5ccc-64d6-4cbb-896e-7561b77cd4c4"
      },
      "execution_count": 145,
      "outputs": [
        {
          "output_type": "execute_result",
          "data": {
            "text/plain": [
              "tensor(0.6969)"
            ]
          },
          "metadata": {},
          "execution_count": 145
        }
      ]
    },
    {
      "cell_type": "markdown",
      "source": [
        "<h3>Indexing Tensors</h3>"
      ],
      "metadata": {
        "id": "qJb3TE-7_HvK"
      }
    },
    {
      "cell_type": "code",
      "source": [
        "x = torch.arange(1,10).reshape(1,3,3)\n",
        "x, x.shape"
      ],
      "metadata": {
        "colab": {
          "base_uri": "https://localhost:8080/"
        },
        "id": "6IzXk1lD_MdQ",
        "outputId": "4e236b16-9c76-48a3-d466-411aa96c6fad"
      },
      "execution_count": 146,
      "outputs": [
        {
          "output_type": "execute_result",
          "data": {
            "text/plain": [
              "(tensor([[[1, 2, 3],\n",
              "          [4, 5, 6],\n",
              "          [7, 8, 9]]]),\n",
              " torch.Size([1, 3, 3]))"
            ]
          },
          "metadata": {},
          "execution_count": 146
        }
      ]
    },
    {
      "cell_type": "code",
      "source": [
        "x[0] # we get what is inside first square bracket"
      ],
      "metadata": {
        "colab": {
          "base_uri": "https://localhost:8080/"
        },
        "id": "LVzmsMOpAbbg",
        "outputId": "a3651638-4d72-494f-bd70-c38d75ee530e"
      },
      "execution_count": 147,
      "outputs": [
        {
          "output_type": "execute_result",
          "data": {
            "text/plain": [
              "tensor([[1, 2, 3],\n",
              "        [4, 5, 6],\n",
              "        [7, 8, 9]])"
            ]
          },
          "metadata": {},
          "execution_count": 147
        }
      ]
    },
    {
      "cell_type": "code",
      "source": [
        "x[0][0], x[0,0]"
      ],
      "metadata": {
        "colab": {
          "base_uri": "https://localhost:8080/"
        },
        "id": "eZ80FeB4B6UD",
        "outputId": "22cf7b6b-d120-43e6-82f7-aa8196685b8b"
      },
      "execution_count": 149,
      "outputs": [
        {
          "output_type": "execute_result",
          "data": {
            "text/plain": [
              "(tensor([1, 2, 3]), tensor([1, 2, 3]))"
            ]
          },
          "metadata": {},
          "execution_count": 149
        }
      ]
    },
    {
      "cell_type": "code",
      "source": [
        "x[0][0][0], x[0,0,0]"
      ],
      "metadata": {
        "colab": {
          "base_uri": "https://localhost:8080/"
        },
        "id": "RDeJEPweCMuu",
        "outputId": "45bb1c78-67fe-4719-c47a-1ab47a70d361"
      },
      "execution_count": 151,
      "outputs": [
        {
          "output_type": "execute_result",
          "data": {
            "text/plain": [
              "(tensor(1), tensor(1))"
            ]
          },
          "metadata": {},
          "execution_count": 151
        }
      ]
    },
    {
      "cell_type": "code",
      "source": [
        "x[0,2,2]"
      ],
      "metadata": {
        "colab": {
          "base_uri": "https://localhost:8080/"
        },
        "id": "_hAGKt9qCb2D",
        "outputId": "3dab386e-be1e-4038-b454-76f311097f0b"
      },
      "execution_count": 153,
      "outputs": [
        {
          "output_type": "execute_result",
          "data": {
            "text/plain": [
              "tensor(9)"
            ]
          },
          "metadata": {},
          "execution_count": 153
        }
      ]
    },
    {
      "cell_type": "code",
      "source": [
        "# Use : to select \"all\" from a target dimension\n",
        "x[:,0]"
      ],
      "metadata": {
        "colab": {
          "base_uri": "https://localhost:8080/"
        },
        "id": "VNENiLhLCo1T",
        "outputId": "66f1ae78-ec07-4a54-d5ba-4b367326422e"
      },
      "execution_count": 154,
      "outputs": [
        {
          "output_type": "execute_result",
          "data": {
            "text/plain": [
              "tensor([[1, 2, 3]])"
            ]
          },
          "metadata": {},
          "execution_count": 154
        }
      ]
    },
    {
      "cell_type": "code",
      "source": [
        "# get all values of 0th and 1st dimension but only index 1 of 2nd dimension\n",
        "x[:,:,1]"
      ],
      "metadata": {
        "colab": {
          "base_uri": "https://localhost:8080/"
        },
        "id": "LlUp8MjPC_QW",
        "outputId": "da185512-9b38-4b3f-9067-087c9156a66a"
      },
      "execution_count": 155,
      "outputs": [
        {
          "output_type": "execute_result",
          "data": {
            "text/plain": [
              "tensor([[2, 5, 8]])"
            ]
          },
          "metadata": {},
          "execution_count": 155
        }
      ]
    },
    {
      "cell_type": "code",
      "source": [
        "x[:,1,1] # notice the square bracket"
      ],
      "metadata": {
        "colab": {
          "base_uri": "https://localhost:8080/"
        },
        "id": "PaXjtUKEDtj2",
        "outputId": "a77a92d3-42fc-4aa9-e8cf-4725940b6639"
      },
      "execution_count": 156,
      "outputs": [
        {
          "output_type": "execute_result",
          "data": {
            "text/plain": [
              "tensor([5])"
            ]
          },
          "metadata": {},
          "execution_count": 156
        }
      ]
    },
    {
      "cell_type": "code",
      "source": [
        "x[0,0,:] # equivalent to x[0][0] or x[0,0]"
      ],
      "metadata": {
        "colab": {
          "base_uri": "https://localhost:8080/"
        },
        "id": "3Q-qO_1ZEAxq",
        "outputId": "d8b154b5-02b2-47be-8cb6-58c358ebf567"
      },
      "execution_count": 158,
      "outputs": [
        {
          "output_type": "execute_result",
          "data": {
            "text/plain": [
              "tensor([1, 2, 3])"
            ]
          },
          "metadata": {},
          "execution_count": 158
        }
      ]
    },
    {
      "cell_type": "code",
      "source": [
        "x[:,:,2]"
      ],
      "metadata": {
        "colab": {
          "base_uri": "https://localhost:8080/"
        },
        "id": "zY5Qzj8QEb2Y",
        "outputId": "919f9ece-80ee-431b-de1e-a4117a271b78"
      },
      "execution_count": 159,
      "outputs": [
        {
          "output_type": "execute_result",
          "data": {
            "text/plain": [
              "tensor([[3, 6, 9]])"
            ]
          },
          "metadata": {},
          "execution_count": 159
        }
      ]
    },
    {
      "cell_type": "markdown",
      "source": [
        "<h2>PyTorch Tensors and Numpy</h2>"
      ],
      "metadata": {
        "id": "DyxGaxIVE2Mp"
      }
    },
    {
      "cell_type": "markdown",
      "source": [
        "Numpy is a powerful scientific numerical computing library, so PyTorch has functionality to interact with it\n",
        "\n",
        "*   Convert data in numpy to PyTorch tensor -> torch.from_numpy(ndarray)\n",
        "*   Convert PyTorch tensor to numpy array -> torch.Tensor.numpy()\n",
        "\n"
      ],
      "metadata": {
        "id": "oOaAVT6qE-mv"
      }
    },
    {
      "cell_type": "code",
      "source": [
        "import numpy as np"
      ],
      "metadata": {
        "id": "DvXG8YnXHGn0"
      },
      "execution_count": 160,
      "outputs": []
    },
    {
      "cell_type": "markdown",
      "source": [
        "numpy array to tensor"
      ],
      "metadata": {
        "id": "XR3BbP6OI-K3"
      }
    },
    {
      "cell_type": "code",
      "source": [
        "array = np.arange(1.0, 8.0)\n",
        "array"
      ],
      "metadata": {
        "colab": {
          "base_uri": "https://localhost:8080/"
        },
        "id": "eKHDlQh4HBu3",
        "outputId": "9fbd37dd-f9f2-414b-e94c-55054cc97ef0"
      },
      "execution_count": 161,
      "outputs": [
        {
          "output_type": "execute_result",
          "data": {
            "text/plain": [
              "array([1., 2., 3., 4., 5., 6., 7.])"
            ]
          },
          "metadata": {},
          "execution_count": 161
        }
      ]
    },
    {
      "cell_type": "code",
      "source": [
        "tensor = torch.from_numpy(array)\n",
        "#tensor = torch.from_numpy(array).type(torch.float32)\n",
        "tensor # new tensor in memory\n",
        "\n",
        "# default tensor dtype is float32\n",
        "# converting numpy array to tensor creates tensor of float64"
      ],
      "metadata": {
        "colab": {
          "base_uri": "https://localhost:8080/"
        },
        "id": "DFuAWqeNHbmK",
        "outputId": "a9387687-12c1-41d6-9f4f-2a3e36c6fb13"
      },
      "execution_count": 163,
      "outputs": [
        {
          "output_type": "execute_result",
          "data": {
            "text/plain": [
              "tensor([1., 2., 3., 4., 5., 6., 7.], dtype=torch.float64)"
            ]
          },
          "metadata": {},
          "execution_count": 163
        }
      ]
    },
    {
      "cell_type": "markdown",
      "source": [
        "tensor to numpy array"
      ],
      "metadata": {
        "id": "RRA6sNy5IwPr"
      }
    },
    {
      "cell_type": "code",
      "source": [
        "tensor = torch.ones(7)\n",
        "numpy_tensor = tensor.numpy()\n",
        "tensor, numpy_tensor # don't share memory"
      ],
      "metadata": {
        "colab": {
          "base_uri": "https://localhost:8080/"
        },
        "id": "1oXUe9f4IyfJ",
        "outputId": "4314d082-2498-49ae-995e-65920b75a7e0"
      },
      "execution_count": 164,
      "outputs": [
        {
          "output_type": "execute_result",
          "data": {
            "text/plain": [
              "(tensor([1., 1., 1., 1., 1., 1., 1.]),\n",
              " array([1., 1., 1., 1., 1., 1., 1.], dtype=float32))"
            ]
          },
          "metadata": {},
          "execution_count": 164
        }
      ]
    },
    {
      "cell_type": "markdown",
      "source": [
        "<h2>Reproducable random tensors</h2>"
      ],
      "metadata": {
        "id": "5XJJZvIWKcqG"
      }
    },
    {
      "cell_type": "code",
      "source": [
        "random_tensor_A = torch.rand(3,4)\n",
        "random_tensor_B = torch.rand(3,4)\n",
        "\n",
        "print(random_tensor_A)\n",
        "print(random_tensor_B)\n",
        "print(random_tensor_A == random_tensor_B)"
      ],
      "metadata": {
        "colab": {
          "base_uri": "https://localhost:8080/"
        },
        "id": "Ga4OoZQiKjLB",
        "outputId": "93898d4f-e66b-4cf2-828b-160d7cac3bae"
      },
      "execution_count": 165,
      "outputs": [
        {
          "output_type": "stream",
          "name": "stdout",
          "text": [
            "tensor([[0.6218, 0.9209, 0.2807, 0.5345],\n",
            "        [0.3140, 0.1588, 0.9525, 0.3842],\n",
            "        [0.2353, 0.6464, 0.8676, 0.7801]])\n",
            "tensor([[0.4745, 0.7849, 0.6684, 0.1368],\n",
            "        [0.2986, 0.0217, 0.3771, 0.9415],\n",
            "        [0.6669, 0.5735, 0.2992, 0.8688]])\n",
            "tensor([[False, False, False, False],\n",
            "        [False, False, False, False],\n",
            "        [False, False, False, False]])\n"
          ]
        }
      ]
    },
    {
      "cell_type": "code",
      "source": [
        "RANDOM_SEED = 42\n",
        "\n",
        "torch.manual_seed(RANDOM_SEED)\n",
        "random_tensor_C = torch.rand(3,4)\n",
        "\n",
        "torch.manual_seed(RANDOM_SEED)\n",
        "random_tensor_D = torch.rand(3,4)\n",
        "\n",
        "print(random_tensor_C)\n",
        "print(random_tensor_D)\n",
        "print(random_tensor_C == random_tensor_D)"
      ],
      "metadata": {
        "colab": {
          "base_uri": "https://localhost:8080/"
        },
        "id": "WFAmOw4qK5-S",
        "outputId": "1b3fb1a7-2648-4c93-c3d0-013c3128f5d0"
      },
      "execution_count": 166,
      "outputs": [
        {
          "output_type": "stream",
          "name": "stdout",
          "text": [
            "tensor([[0.8823, 0.9150, 0.3829, 0.9593],\n",
            "        [0.3904, 0.6009, 0.2566, 0.7936],\n",
            "        [0.9408, 0.1332, 0.9346, 0.5936]])\n",
            "tensor([[0.8823, 0.9150, 0.3829, 0.9593],\n",
            "        [0.3904, 0.6009, 0.2566, 0.7936],\n",
            "        [0.9408, 0.1332, 0.9346, 0.5936]])\n",
            "tensor([[True, True, True, True],\n",
            "        [True, True, True, True],\n",
            "        [True, True, True, True]])\n"
          ]
        }
      ]
    },
    {
      "cell_type": "markdown",
      "source": [
        "<h2>Setting up GPUs</h2>"
      ],
      "metadata": {
        "id": "LKY6VVF4Ss0L"
      }
    },
    {
      "cell_type": "markdown",
      "source": [
        "*   Google Colab - Easy - Free to use, almost zero setup required, can share work with others as easy as a link - Doesn't save your data outputs, limited compute, subject to timeouts - (https://colab.research.google.com/notebooks/gpu.ipynb)\n",
        "*   Use your own - Medium - Run everything locally on your own machine - GPUs aren't free, require upfront cost - (https://pytorch.org/get-started/locally/)\n",
        "*   Cloud computing (AWS, GCP, Azure) - Medium-Hard - Small upfront cost, access to almost infinite compute -  Can get expensive if running continually, takes some time to setup right - (https://pytorch.org/get-started/cloud-partners/)"
      ],
      "metadata": {
        "id": "EHfRds_-PU5e"
      }
    },
    {
      "cell_type": "code",
      "source": [
        "# check GPU access\n",
        "torch.cuda.is_available()"
      ],
      "metadata": {
        "colab": {
          "base_uri": "https://localhost:8080/"
        },
        "id": "Zmh2FAr9PQwN",
        "outputId": "7511f847-b299-4cde-be01-2d4d857898fe"
      },
      "execution_count": 167,
      "outputs": [
        {
          "output_type": "execute_result",
          "data": {
            "text/plain": [
              "False"
            ]
          },
          "metadata": {},
          "execution_count": 167
        }
      ]
    },
    {
      "cell_type": "code",
      "source": [
        "# set up device agnostic code\n",
        "device = \"cuda\" if torch.cuda.is_available() else \"cpu\"\n",
        "device"
      ],
      "metadata": {
        "colab": {
          "base_uri": "https://localhost:8080/",
          "height": 35
        },
        "id": "DaDDL3dUTIuY",
        "outputId": "461c6115-b59c-426b-fef1-8cda69aaed28"
      },
      "execution_count": 169,
      "outputs": [
        {
          "output_type": "execute_result",
          "data": {
            "text/plain": [
              "'cpu'"
            ],
            "application/vnd.google.colaboratory.intrinsic+json": {
              "type": "string"
            }
          },
          "metadata": {},
          "execution_count": 169
        }
      ]
    },
    {
      "cell_type": "code",
      "source": [
        "# count no of devices (gpus)\n",
        "torch.cuda.device_count()"
      ],
      "metadata": {
        "colab": {
          "base_uri": "https://localhost:8080/"
        },
        "id": "8e3RU7sBUBmM",
        "outputId": "2da8320f-2019-447e-8881-40905ebcf127"
      },
      "execution_count": 170,
      "outputs": [
        {
          "output_type": "execute_result",
          "data": {
            "text/plain": [
              "0"
            ]
          },
          "metadata": {},
          "execution_count": 170
        }
      ]
    },
    {
      "cell_type": "markdown",
      "source": [
        "In PyTorch, it's best practice to write device agnostic code. This means code that'll run on CPU (always available) or GPU (if available) - https://pytorch.org/docs/main/notes/cuda.html#device-agnostic-code"
      ],
      "metadata": {
        "id": "hHBg5hoNVZAJ"
      }
    },
    {
      "cell_type": "markdown",
      "source": [
        "<h3>Putting tensors/models on the GPU</h3>"
      ],
      "metadata": {
        "id": "U7hVW3_rWJdW"
      }
    },
    {
      "cell_type": "code",
      "source": [
        "# creating a tensor on CPU\n",
        "tensor = torch.tensor([1,2,3], device=\"cpu\")\n",
        "print(tensor, tensor.device)"
      ],
      "metadata": {
        "colab": {
          "base_uri": "https://localhost:8080/"
        },
        "id": "n22v3__4Vumr",
        "outputId": "64737b38-1289-4d9a-a06e-8c240f370611"
      },
      "execution_count": 171,
      "outputs": [
        {
          "output_type": "stream",
          "name": "stdout",
          "text": [
            "tensor([1, 2, 3]) cpu\n"
          ]
        }
      ]
    },
    {
      "cell_type": "code",
      "source": [
        "# move tensor to GPU (if available)\n",
        "tensor_on_gpu = tensor.to(device)\n",
        "tensor_on_gpu"
      ],
      "metadata": {
        "colab": {
          "base_uri": "https://localhost:8080/"
        },
        "id": "YthzHEqsWO5X",
        "outputId": "eeb6dc1a-4a10-4a9d-e179-d02f89a9b009"
      },
      "execution_count": 172,
      "outputs": [
        {
          "output_type": "execute_result",
          "data": {
            "text/plain": [
              "tensor([1, 2, 3])"
            ]
          },
          "metadata": {},
          "execution_count": 172
        }
      ]
    },
    {
      "cell_type": "markdown",
      "source": [
        "If tensor is on GPU, can't tconvert it to NumPy - that's one use case of why we need to take tensors back to CPU"
      ],
      "metadata": {
        "id": "2lKcyy9FWq0i"
      }
    },
    {
      "cell_type": "code",
      "source": [
        "# move tensors back to CPU\n",
        "tensor_back_on_cpu = tensor_on_gpu.cpu().numpy()\n",
        "tensor_back_on_cpu\n",
        "\n",
        "# tensor on gpu remains unchanged"
      ],
      "metadata": {
        "id": "-NRZJFJlWjm2"
      },
      "execution_count": null,
      "outputs": []
    }
  ]
}