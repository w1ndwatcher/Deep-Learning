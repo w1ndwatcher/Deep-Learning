{
  "nbformat": 4,
  "nbformat_minor": 0,
  "metadata": {
    "colab": {
      "provenance": [],
      "gpuType": "T4"
    },
    "kernelspec": {
      "name": "python3",
      "display_name": "Python 3"
    },
    "language_info": {
      "name": "python"
    },
    "accelerator": "GPU"
  },
  "cells": [
    {
      "cell_type": "markdown",
      "source": [],
      "metadata": {
        "id": "lekjnWHrcDsy"
      }
    },
    {
      "cell_type": "code",
      "execution_count": 1,
      "metadata": {
        "colab": {
          "base_uri": "https://localhost:8080/",
          "height": 35
        },
        "id": "b5KenCH9bGfD",
        "outputId": "242750ba-770b-4bdd-f680-5f590dda2a7a"
      },
      "outputs": [
        {
          "output_type": "execute_result",
          "data": {
            "text/plain": [
              "'2.5.1+cu124'"
            ],
            "application/vnd.google.colaboratory.intrinsic+json": {
              "type": "string"
            }
          },
          "metadata": {},
          "execution_count": 1
        }
      ],
      "source": [
        "import torch\n",
        "from torch import nn\n",
        "import matplotlib.pyplot as plt\n",
        "\n",
        "torch.__version__"
      ]
    },
    {
      "cell_type": "code",
      "source": [
        "# Setup device agnostic code\n",
        "device = \"cuda\" if torch.cuda.is_available() else \"cpu\"\n",
        "print(f\"Using device: {device}\")"
      ],
      "metadata": {
        "colab": {
          "base_uri": "https://localhost:8080/"
        },
        "id": "oQAYi0xSnauR",
        "outputId": "7cbeea15-98f4-4401-f460-20b574158a46"
      },
      "execution_count": 2,
      "outputs": [
        {
          "output_type": "stream",
          "name": "stdout",
          "text": [
            "Using device: cuda\n"
          ]
        }
      ]
    },
    {
      "cell_type": "markdown",
      "source": [
        "<h1>1. Data Preparing and Loading</h1>"
      ],
      "metadata": {
        "id": "w0fcT90lc2NG"
      }
    },
    {
      "cell_type": "markdown",
      "source": [
        "Data in machine learning can be almost anything you can imagine.\n",
        "* A table of numbers (like a big Excel spreadsheet),\n",
        "* images of any kind,\n",
        "* videos (YouTube has lots of data!),\n",
        "* audio files like songs or podcasts,\n",
        "* protein structures,\n",
        "* text and more."
      ],
      "metadata": {
        "id": "nudYig7xduDR"
      }
    },
    {
      "cell_type": "markdown",
      "source": [
        "Machine learning is a game of two parts:\n",
        "\n",
        "1. Turn your data, whatever it is, into numbers (a representation).\n",
        "2. Pick or build a model to learn the representation as best as possible."
      ],
      "metadata": {
        "id": "FaleDmkjd_bV"
      }
    },
    {
      "cell_type": "markdown",
      "source": [
        "Creating data using linear regression formula (known parameters)"
      ],
      "metadata": {
        "id": "odUHrt_BkUJW"
      }
    },
    {
      "cell_type": "markdown",
      "source": [
        "y = a + bx"
      ],
      "metadata": {
        "id": "RrR6eLbXkimD"
      }
    },
    {
      "cell_type": "markdown",
      "source": [
        "* y -> independent variable\n",
        "* x -> dependent variable tensor\n",
        "* b -> slope/gradient/weights\n",
        "* a -> intercept/bias"
      ],
      "metadata": {
        "id": "L_ymUxsFkld4"
      }
    },
    {
      "cell_type": "code",
      "source": [
        "weight = 0.7\n",
        "bias = 0.3"
      ],
      "metadata": {
        "id": "aDqVCXXAkktg"
      },
      "execution_count": 3,
      "outputs": []
    },
    {
      "cell_type": "code",
      "source": [
        "start = 0\n",
        "end = 1\n",
        "step = 0.02\n",
        "\n",
        "X = torch.arange(start,end,step).unsqueeze(dim=1)\n",
        "y = weight*X + bias\n",
        "\n",
        "X[:10], y[:10], len(X), len(y)"
      ],
      "metadata": {
        "colab": {
          "base_uri": "https://localhost:8080/"
        },
        "id": "SeRbFlEXdtWg",
        "outputId": "05a730e3-cddf-4d4b-8667-135b08fc3a03"
      },
      "execution_count": 4,
      "outputs": [
        {
          "output_type": "execute_result",
          "data": {
            "text/plain": [
              "(tensor([[0.0000],\n",
              "         [0.0200],\n",
              "         [0.0400],\n",
              "         [0.0600],\n",
              "         [0.0800],\n",
              "         [0.1000],\n",
              "         [0.1200],\n",
              "         [0.1400],\n",
              "         [0.1600],\n",
              "         [0.1800]]),\n",
              " tensor([[0.3000],\n",
              "         [0.3140],\n",
              "         [0.3280],\n",
              "         [0.3420],\n",
              "         [0.3560],\n",
              "         [0.3700],\n",
              "         [0.3840],\n",
              "         [0.3980],\n",
              "         [0.4120],\n",
              "         [0.4260]]),\n",
              " 50,\n",
              " 50)"
            ]
          },
          "metadata": {},
          "execution_count": 4
        }
      ]
    },
    {
      "cell_type": "markdown",
      "source": [
        "Split data into train and test"
      ],
      "metadata": {
        "id": "wsqeW2kimxx2"
      }
    },
    {
      "cell_type": "markdown",
      "source": [
        "Generalization: The ability for a machine learning model to perform well on data it hasn't seen before"
      ],
      "metadata": {
        "id": "BiN6T5OcnB5_"
      }
    },
    {
      "cell_type": "markdown",
      "source": [
        "\n",
        "\n",
        "*   training set - model learns patterns from here\n",
        "*   validation set - tune model patterns\n",
        "*   test set - evaluate performance of the model\n",
        "\n"
      ],
      "metadata": {
        "id": "tXZgpUshnUUn"
      }
    },
    {
      "cell_type": "code",
      "source": [
        "# Create train/test split\n",
        "train_split = int(0.8 * len(X)) # 80% of data used for training set, 20% for testing\n",
        "X_train, y_train = X[:train_split], y[:train_split]\n",
        "X_test, y_test = X[train_split:], y[train_split:]\n",
        "\n",
        "len(X_train), len(y_train), len(X_test), len(y_test)"
      ],
      "metadata": {
        "colab": {
          "base_uri": "https://localhost:8080/"
        },
        "id": "-ZE7OjiWc7zD",
        "outputId": "ea9999e2-560e-4618-e2f4-1cec47eba228"
      },
      "execution_count": 5,
      "outputs": [
        {
          "output_type": "execute_result",
          "data": {
            "text/plain": [
              "(40, 40, 10, 10)"
            ]
          },
          "metadata": {},
          "execution_count": 5
        }
      ]
    },
    {
      "cell_type": "code",
      "source": [
        "X_train, y_train"
      ],
      "metadata": {
        "colab": {
          "base_uri": "https://localhost:8080/"
        },
        "id": "wykdgZDSoyk9",
        "outputId": "88c5eff7-50d0-47d9-ff37-858d7243008d"
      },
      "execution_count": 6,
      "outputs": [
        {
          "output_type": "execute_result",
          "data": {
            "text/plain": [
              "(tensor([[0.0000],\n",
              "         [0.0200],\n",
              "         [0.0400],\n",
              "         [0.0600],\n",
              "         [0.0800],\n",
              "         [0.1000],\n",
              "         [0.1200],\n",
              "         [0.1400],\n",
              "         [0.1600],\n",
              "         [0.1800],\n",
              "         [0.2000],\n",
              "         [0.2200],\n",
              "         [0.2400],\n",
              "         [0.2600],\n",
              "         [0.2800],\n",
              "         [0.3000],\n",
              "         [0.3200],\n",
              "         [0.3400],\n",
              "         [0.3600],\n",
              "         [0.3800],\n",
              "         [0.4000],\n",
              "         [0.4200],\n",
              "         [0.4400],\n",
              "         [0.4600],\n",
              "         [0.4800],\n",
              "         [0.5000],\n",
              "         [0.5200],\n",
              "         [0.5400],\n",
              "         [0.5600],\n",
              "         [0.5800],\n",
              "         [0.6000],\n",
              "         [0.6200],\n",
              "         [0.6400],\n",
              "         [0.6600],\n",
              "         [0.6800],\n",
              "         [0.7000],\n",
              "         [0.7200],\n",
              "         [0.7400],\n",
              "         [0.7600],\n",
              "         [0.7800]]),\n",
              " tensor([[0.3000],\n",
              "         [0.3140],\n",
              "         [0.3280],\n",
              "         [0.3420],\n",
              "         [0.3560],\n",
              "         [0.3700],\n",
              "         [0.3840],\n",
              "         [0.3980],\n",
              "         [0.4120],\n",
              "         [0.4260],\n",
              "         [0.4400],\n",
              "         [0.4540],\n",
              "         [0.4680],\n",
              "         [0.4820],\n",
              "         [0.4960],\n",
              "         [0.5100],\n",
              "         [0.5240],\n",
              "         [0.5380],\n",
              "         [0.5520],\n",
              "         [0.5660],\n",
              "         [0.5800],\n",
              "         [0.5940],\n",
              "         [0.6080],\n",
              "         [0.6220],\n",
              "         [0.6360],\n",
              "         [0.6500],\n",
              "         [0.6640],\n",
              "         [0.6780],\n",
              "         [0.6920],\n",
              "         [0.7060],\n",
              "         [0.7200],\n",
              "         [0.7340],\n",
              "         [0.7480],\n",
              "         [0.7620],\n",
              "         [0.7760],\n",
              "         [0.7900],\n",
              "         [0.8040],\n",
              "         [0.8180],\n",
              "         [0.8320],\n",
              "         [0.8460]]))"
            ]
          },
          "metadata": {},
          "execution_count": 6
        }
      ]
    },
    {
      "cell_type": "code",
      "source": [
        "def plot_predictions(train_data, train_labels, test_data, test_labels, predictions=None):\n",
        "  plt.figure(figsize=(10,7))\n",
        "  plt.scatter(train_data, train_labels, c=\"b\", s=4, label=\"Training Data\")\n",
        "  plt.scatter(test_data, test_labels, c=\"g\", s=4, label=\"Test Data\")\n",
        "  if predictions is not None:\n",
        "    plt.scatter(test_data, predictions, c=\"r\", s=4, label=\"Predictions\")\n",
        "  plt.legend(prop={\"size\":14})"
      ],
      "metadata": {
        "id": "u3Kiw3yFpN5D"
      },
      "execution_count": 7,
      "outputs": []
    },
    {
      "cell_type": "code",
      "source": [
        "plot_predictions(X_train,y_train,X_test,y_test)"
      ],
      "metadata": {
        "colab": {
          "base_uri": "https://localhost:8080/",
          "height": 599
        },
        "id": "Tm9rJ7DUrTs4",
        "outputId": "a3e1c8ef-ea02-4416-d408-f09010a730e8"
      },
      "execution_count": 8,
      "outputs": [
        {
          "output_type": "display_data",
          "data": {
            "text/plain": [
              "<Figure size 1000x700 with 1 Axes>"
            ],
            "image/png": "[encoded data removed]"
          },
          "metadata": {}
        }
      ]
    },
    {
      "cell_type": "markdown",
      "source": [
        "<h1>2. Model</h1>"
      ],
      "metadata": {
        "id": "tpHFNGRNsK7w"
      }
    },
    {
      "cell_type": "code",
      "source": [
        "# # Create a Linear Regression Model Class\n",
        "# class LinearRegressionModel(nn.Module):\n",
        "#   # nn.Module -> Base class for all neural network modules\n",
        "#   def __init__(self):\n",
        "#     super().__init__()\n",
        "#     self.weights = nn.Parameter(torch.randn(1,requires_grad=True,dtype=torch.float))\n",
        "#     self.bias = nn.Parameter(torch.randn(1,requires_grad=True,dtype=torch.float))\n",
        "\n",
        "#   # forward method to define the computation in the model\n",
        "#   def forward(self, x: torch.Tensor) -> torch.Tensor:\n",
        "#     return self.weights * x + self.bias"
      ],
      "metadata": {
        "id": "G7ofznAEsP-j"
      },
      "execution_count": 9,
      "outputs": []
    },
    {
      "cell_type": "code",
      "source": [
        "# Subclass nn.Module to make our model\n",
        "class LinearRegressionModel(nn.Module):\n",
        "    def __init__(self):\n",
        "        super().__init__()\n",
        "        # Use nn.Linear() for creating the model parameters\n",
        "        self.linear_layer = nn.Linear(in_features=1,\n",
        "                                      out_features=1)\n",
        "\n",
        "    # Define the forward computation (input data x flows through nn.Linear())\n",
        "    def forward(self, x: torch.Tensor) -> torch.Tensor:\n",
        "        return self.linear_layer(x)"
      ],
      "metadata": {
        "id": "kAFQjamWoXRO"
      },
      "execution_count": 10,
      "outputs": []
    },
    {
      "cell_type": "markdown",
      "source": [
        "What the model does:\n",
        "*  Start with random weights and bias\n",
        "*  look at training data and adjust the random values to get closer to ideal values\n",
        "\n",
        "It does so through two main algorithms:\n",
        "* Gradient Descent\n",
        "* Backpropogation"
      ],
      "metadata": {
        "id": "vr7zwbPfwHMm"
      }
    },
    {
      "cell_type": "markdown",
      "source": [
        "<h2>PyTorch Model Building Essentials</h2>"
      ],
      "metadata": {
        "id": "yqiu3UGgYxxi"
      }
    },
    {
      "cell_type": "markdown",
      "source": [
        "\n",
        "\n",
        "*   torch.nn - Contains all of the building blocks for computational graphs (a neural network can be considered as a computational graph).\n",
        "*   torch.nn.Parameter - which parameters the model should try to learn - Stores tensors that can be used with nn.Module. If requires_grad=True gradients (used for updating model parameters via gradient descent) are calculated automatically, this is often referred to as \"autograd\".\n",
        "*   torch.nn.Module - The base class for all neural network modules, all the building blocks for neural networks are subclasses. If you're building a neural network in PyTorch, your models should subclass nn.Module. Requires a forward() method be implemented.\n",
        "*   torch.optim - Contains various optimization algorithms (these tell the model parameters stored in nn.Parameter how to best change to improve gradient descent and in turn reduce the loss).\n",
        "*   def forward() - All nn.Module subclasses require a forward() method, this defines the computation that will take place on the data passed to the particular nn.Module (e.g. the linear regression formula above).\n",
        "\n"
      ],
      "metadata": {
        "id": "1D1JWjJmY4RY"
      }
    },
    {
      "cell_type": "markdown",
      "source": [
        "<h2>Checking contents of the model</h2>"
      ],
      "metadata": {
        "id": "2foUfWSJbDT2"
      }
    },
    {
      "cell_type": "code",
      "source": [
        "# Create a random seed\n",
        "torch.manual_seed(42)\n",
        "\n",
        "# Create an instance of the model\n",
        "model_0 = LinearRegressionModel()\n",
        "model_0"
      ],
      "metadata": {
        "id": "fDDV51_qw240",
        "colab": {
          "base_uri": "https://localhost:8080/"
        },
        "outputId": "06282184-7992-4af6-8e03-7172c76ad265"
      },
      "execution_count": 11,
      "outputs": [
        {
          "output_type": "execute_result",
          "data": {
            "text/plain": [
              "LinearRegressionModel(\n",
              "  (linear_layer): Linear(in_features=1, out_features=1, bias=True)\n",
              ")"
            ]
          },
          "metadata": {},
          "execution_count": 11
        }
      ]
    },
    {
      "cell_type": "code",
      "source": [
        "model_0.to(device)"
      ],
      "metadata": {
        "colab": {
          "base_uri": "https://localhost:8080/"
        },
        "id": "zjlqQbOgrTzt",
        "outputId": "75d957ab-54fd-4d4c-cc5b-f92d89441193"
      },
      "execution_count": 12,
      "outputs": [
        {
          "output_type": "execute_result",
          "data": {
            "text/plain": [
              "LinearRegressionModel(\n",
              "  (linear_layer): Linear(in_features=1, out_features=1, bias=True)\n",
              ")"
            ]
          },
          "metadata": {},
          "execution_count": 12
        }
      ]
    },
    {
      "cell_type": "code",
      "source": [
        "# checking the parameters\n",
        "#model_0.parameters() # it returns a generator\n",
        "list(model_0.parameters())\n",
        "\n",
        "# we see random values for weight and bias"
      ],
      "metadata": {
        "colab": {
          "base_uri": "https://localhost:8080/"
        },
        "id": "hjD4N-wqb22i",
        "outputId": "9c63f405-cb7b-4bff-e59e-4fdc7864ed4c"
      },
      "execution_count": 13,
      "outputs": [
        {
          "output_type": "execute_result",
          "data": {
            "text/plain": [
              "[Parameter containing:\n",
              " tensor([[0.7645]], device='cuda:0', requires_grad=True),\n",
              " Parameter containing:\n",
              " tensor([0.8300], device='cuda:0', requires_grad=True)]"
            ]
          },
          "metadata": {},
          "execution_count": 13
        }
      ]
    },
    {
      "cell_type": "code",
      "source": [
        "# List named parameters\n",
        "model_0.state_dict()"
      ],
      "metadata": {
        "colab": {
          "base_uri": "https://localhost:8080/"
        },
        "id": "i0s3kyMucvuH",
        "outputId": "954f5630-71eb-4ceb-f951-dacc4ece9dbb"
      },
      "execution_count": 14,
      "outputs": [
        {
          "output_type": "execute_result",
          "data": {
            "text/plain": [
              "OrderedDict([('linear_layer.weight', tensor([[0.7645]], device='cuda:0')),\n",
              "             ('linear_layer.bias', tensor([0.8300], device='cuda:0'))])"
            ]
          },
          "metadata": {},
          "execution_count": 14
        }
      ]
    },
    {
      "cell_type": "markdown",
      "source": [
        "<h1>3. Prediction</h3>"
      ],
      "metadata": {
        "id": "EPxOj3ZLgVfM"
      }
    },
    {
      "cell_type": "markdown",
      "source": [
        "Checking the current prediction power of the model"
      ],
      "metadata": {
        "id": "cieCFnVWeT-V"
      }
    },
    {
      "cell_type": "code",
      "source": [
        "X_test,y_test"
      ],
      "metadata": {
        "colab": {
          "base_uri": "https://localhost:8080/"
        },
        "id": "EH7SJ-OMeVKs",
        "outputId": "4ead97c0-bf73-4471-a6a7-4fd5c6d9bd9e"
      },
      "execution_count": 15,
      "outputs": [
        {
          "output_type": "execute_result",
          "data": {
            "text/plain": [
              "(tensor([[0.8000],\n",
              "         [0.8200],\n",
              "         [0.8400],\n",
              "         [0.8600],\n",
              "         [0.8800],\n",
              "         [0.9000],\n",
              "         [0.9200],\n",
              "         [0.9400],\n",
              "         [0.9600],\n",
              "         [0.9800]]),\n",
              " tensor([[0.8600],\n",
              "         [0.8740],\n",
              "         [0.8880],\n",
              "         [0.9020],\n",
              "         [0.9160],\n",
              "         [0.9300],\n",
              "         [0.9440],\n",
              "         [0.9580],\n",
              "         [0.9720],\n",
              "         [0.9860]]))"
            ]
          },
          "metadata": {},
          "execution_count": 15
        }
      ]
    },
    {
      "cell_type": "code",
      "source": [
        "# put data on target device\n",
        "X_train = X_train.to(device)\n",
        "X_test = X_test.to(device)\n",
        "y_train = y_train.to(device)\n",
        "y_test = y_test.to(device)"
      ],
      "metadata": {
        "id": "hRmIi7qiUiq4"
      },
      "execution_count": 16,
      "outputs": []
    },
    {
      "cell_type": "code",
      "source": [
        "with torch.inference_mode(): # faster mode as gradients are not saved to memory\n",
        "  y_preds = model_0(X_test)\n",
        "\n",
        "y_preds"
      ],
      "metadata": {
        "colab": {
          "base_uri": "https://localhost:8080/"
        },
        "id": "5GDI1sCRdpL0",
        "outputId": "13745025-1bf2-4e33-f898-35d6b39f132f"
      },
      "execution_count": 17,
      "outputs": [
        {
          "output_type": "execute_result",
          "data": {
            "text/plain": [
              "tensor([[1.4416],\n",
              "        [1.4569],\n",
              "        [1.4722],\n",
              "        [1.4875],\n",
              "        [1.5028],\n",
              "        [1.5181],\n",
              "        [1.5334],\n",
              "        [1.5487],\n",
              "        [1.5640],\n",
              "        [1.5793]], device='cuda:0')"
            ]
          },
          "metadata": {},
          "execution_count": 17
        }
      ]
    },
    {
      "cell_type": "markdown",
      "source": [
        "torch.inference_mode() turns off a bunch of things (like gradient tracking, which is necessary for training but not for inference) to make forward-passes (data going through the forward() method) faster."
      ],
      "metadata": {
        "id": "lHKHLKfUgKsu"
      }
    },
    {
      "cell_type": "code",
      "source": [
        "plot_predictions(X_train.cpu(),y_train.cpu(),X_test.cpu(),y_test.cpu(),y_preds.cpu())"
      ],
      "metadata": {
        "colab": {
          "base_uri": "https://localhost:8080/",
          "height": 599
        },
        "id": "O3NSVw5-e-zZ",
        "outputId": "98f4ef03-ab89-4f11-d655-b643c7d4c48d"
      },
      "execution_count": 18,
      "outputs": [
        {
          "output_type": "display_data",
          "data": {
            "text/plain": [
              "<Figure size 1000x700 with 1 Axes>"
            ],
            "image/png": "[encoded data removed]"
          },
          "metadata": {}
        }
      ]
    },
    {
      "cell_type": "markdown",
      "source": [
        "<h1>4. Training and Testing</h1>"
      ],
      "metadata": {
        "id": "1ePaV8pZhDOa"
      }
    },
    {
      "cell_type": "markdown",
      "source": [
        "Things we need to train:\n",
        "*  Loss Function: Measures how wrong your model's predictions (e.g. y_preds) are compared to the truth labels (e.g. y_test). Lower the better.\n",
        "*  Optimizer: Takes into account the loss of a model and adjusts the model's parameters to improve the loss function. Tells your model how to update its internal parameters to best lower the loss."
      ],
      "metadata": {
        "id": "jX_8ny5zhHKY"
      }
    },
    {
      "cell_type": "markdown",
      "source": [
        "<h2>Setting up loss function and Optimizer</h2>"
      ],
      "metadata": {
        "id": "dOsc9ih5iwMu"
      }
    },
    {
      "cell_type": "code",
      "source": [
        "loss_fn = nn.L1Loss()\n",
        "optimizer = torch.optim.SGD(params=model_0.parameters(),lr=0.01)\n",
        "# lr - hyperparameter"
      ],
      "metadata": {
        "id": "Dh704DjticPc"
      },
      "execution_count": 19,
      "outputs": []
    },
    {
      "cell_type": "markdown",
      "source": [
        "<h2>Build the Training Loop</h2>"
      ],
      "metadata": {
        "id": "ZGtnXqU5nXdF"
      }
    },
    {
      "cell_type": "markdown",
      "source": [
        "What we need in a training loop:-\n",
        "* Loop through the data\n",
        "* Forward pass for prediction\n",
        "* Calculate the loss\n",
        "* Optimizer zero grad\n",
        "* Backpropogation\n",
        "* Optimizer step (update parameters)"
      ],
      "metadata": {
        "id": "LJ7dDfhUo9wo"
      }
    },
    {
      "cell_type": "code",
      "source": [
        "torch.manual_seed(42)\n",
        "\n",
        "epochs = 200 # hyperparameter\n",
        "\n",
        "# Track different values\n",
        "epoch_count = []\n",
        "loss_values = []\n",
        "test_loss_values = []\n",
        "\n",
        "for epoch in range(epochs):\n",
        "  # Set the model to training mode\n",
        "  model_0.train() # train method in PyTorch sets all parameters that require gradients to require_grad=True\n",
        "  # Forward pass\n",
        "  y_pred = model_0(X_train) # performs forward() method located in the model object\n",
        "  # Calculate loss\n",
        "  loss = loss_fn(y_pred, y_train)\n",
        "  # Optimizer zero grad\n",
        "  optimizer.zero_grad() # sets optimizer's accumulated step gradients to zero\n",
        "  # perform backpropogation on the loss wrt parameters of the model\n",
        "  loss.backward()\n",
        "  # step the optimizer (perform gradient descent)\n",
        "  optimizer.step() # update the model's parameters wrt gradients calculated by loss.backward()\n",
        "\n",
        "  # Testing\n",
        "  model_0.eval() # turns off gradient tracking\n",
        "  with torch.inference_mode():\n",
        "    # Do the forward pass\n",
        "    test_pred = model_0(X_test)\n",
        "    # calculate the test loss\n",
        "    test_loss = loss_fn(test_pred,y_test)\n",
        "  if epoch % 10 == 0:\n",
        "    epoch_count.append(epoch)\n",
        "    loss_values.append(loss)\n",
        "    test_loss_values.append(test_loss)\n",
        "    print(f\"Epoch: {epoch} | Loss: {loss} | Test Loss: {test_loss}\")\n",
        "    print(model_0.state_dict())"
      ],
      "metadata": {
        "colab": {
          "base_uri": "https://localhost:8080/"
        },
        "id": "SL7RRBrlnbVd",
        "outputId": "8124f9bc-350e-43c3-940d-ff64c983b11e"
      },
      "execution_count": 20,
      "outputs": [
        {
          "output_type": "stream",
          "name": "stdout",
          "text": [
            "Epoch: 0 | Loss: 0.5551779866218567 | Test Loss: 0.5739762187004089\n",
            "OrderedDict([('linear_layer.weight', tensor([[0.7606]], device='cuda:0')), ('linear_layer.bias', tensor([0.8200], device='cuda:0'))])\n",
            "Epoch: 10 | Loss: 0.439968079328537 | Test Loss: 0.4392664134502411\n",
            "OrderedDict([('linear_layer.weight', tensor([[0.7216]], device='cuda:0')), ('linear_layer.bias', tensor([0.7200], device='cuda:0'))])\n",
            "Epoch: 20 | Loss: 0.3247582018375397 | Test Loss: 0.30455657839775085\n",
            "OrderedDict([('linear_layer.weight', tensor([[0.6826]], device='cuda:0')), ('linear_layer.bias', tensor([0.6200], device='cuda:0'))])\n",
            "Epoch: 30 | Loss: 0.20954833924770355 | Test Loss: 0.16984669864177704\n",
            "OrderedDict([('linear_layer.weight', tensor([[0.6436]], device='cuda:0')), ('linear_layer.bias', tensor([0.5200], device='cuda:0'))])\n",
            "Epoch: 40 | Loss: 0.09433845430612564 | Test Loss: 0.03513690456748009\n",
            "OrderedDict([('linear_layer.weight', tensor([[0.6046]], device='cuda:0')), ('linear_layer.bias', tensor([0.4200], device='cuda:0'))])\n",
            "Epoch: 50 | Loss: 0.023886388167738914 | Test Loss: 0.04784907028079033\n",
            "OrderedDict([('linear_layer.weight', tensor([[0.5872]], device='cuda:0')), ('linear_layer.bias', tensor([0.3525], device='cuda:0'))])\n",
            "Epoch: 60 | Loss: 0.019956795498728752 | Test Loss: 0.045803118497133255\n",
            "OrderedDict([('linear_layer.weight', tensor([[0.6025]], device='cuda:0')), ('linear_layer.bias', tensor([0.3410], device='cuda:0'))])\n",
            "Epoch: 70 | Loss: 0.016517987474799156 | Test Loss: 0.037530567497015\n",
            "OrderedDict([('linear_layer.weight', tensor([[0.6196]], device='cuda:0')), ('linear_layer.bias', tensor([0.3340], device='cuda:0'))])\n",
            "Epoch: 80 | Loss: 0.013089174404740334 | Test Loss: 0.02994490973651409\n",
            "OrderedDict([('linear_layer.weight', tensor([[0.6366]], device='cuda:0')), ('linear_layer.bias', tensor([0.3265], device='cuda:0'))])\n",
            "Epoch: 90 | Loss: 0.009653178043663502 | Test Loss: 0.02167237363755703\n",
            "OrderedDict([('linear_layer.weight', tensor([[0.6537]], device='cuda:0')), ('linear_layer.bias', tensor([0.3195], device='cuda:0'))])\n",
            "Epoch: 100 | Loss: 0.006215683650225401 | Test Loss: 0.014086711220443249\n",
            "OrderedDict([('linear_layer.weight', tensor([[0.6707]], device='cuda:0')), ('linear_layer.bias', tensor([0.3120], device='cuda:0'))])\n",
            "Epoch: 110 | Loss: 0.00278724217787385 | Test Loss: 0.005814164876937866\n",
            "OrderedDict([('linear_layer.weight', tensor([[0.6878]], device='cuda:0')), ('linear_layer.bias', tensor([0.3050], device='cuda:0'))])\n",
            "Epoch: 120 | Loss: 0.0012645035749301314 | Test Loss: 0.013801801018416882\n",
            "OrderedDict([('linear_layer.weight', tensor([[0.6929]], device='cuda:0')), ('linear_layer.bias', tensor([0.2925], device='cuda:0'))])\n",
            "Epoch: 130 | Loss: 0.0012645035749301314 | Test Loss: 0.013801801018416882\n",
            "OrderedDict([('linear_layer.weight', tensor([[0.6929]], device='cuda:0')), ('linear_layer.bias', tensor([0.2925], device='cuda:0'))])\n",
            "Epoch: 140 | Loss: 0.0012645035749301314 | Test Loss: 0.013801801018416882\n",
            "OrderedDict([('linear_layer.weight', tensor([[0.6929]], device='cuda:0')), ('linear_layer.bias', tensor([0.2925], device='cuda:0'))])\n",
            "Epoch: 150 | Loss: 0.0012645035749301314 | Test Loss: 0.013801801018416882\n",
            "OrderedDict([('linear_layer.weight', tensor([[0.6929]], device='cuda:0')), ('linear_layer.bias', tensor([0.2925], device='cuda:0'))])\n",
            "Epoch: 160 | Loss: 0.0012645035749301314 | Test Loss: 0.013801801018416882\n",
            "OrderedDict([('linear_layer.weight', tensor([[0.6929]], device='cuda:0')), ('linear_layer.bias', tensor([0.2925], device='cuda:0'))])\n",
            "Epoch: 170 | Loss: 0.0012645035749301314 | Test Loss: 0.013801801018416882\n",
            "OrderedDict([('linear_layer.weight', tensor([[0.6929]], device='cuda:0')), ('linear_layer.bias', tensor([0.2925], device='cuda:0'))])\n",
            "Epoch: 180 | Loss: 0.0012645035749301314 | Test Loss: 0.013801801018416882\n",
            "OrderedDict([('linear_layer.weight', tensor([[0.6929]], device='cuda:0')), ('linear_layer.bias', tensor([0.2925], device='cuda:0'))])\n",
            "Epoch: 190 | Loss: 0.0012645035749301314 | Test Loss: 0.013801801018416882\n",
            "OrderedDict([('linear_layer.weight', tensor([[0.6929]], device='cuda:0')), ('linear_layer.bias', tensor([0.2925], device='cuda:0'))])\n"
          ]
        }
      ]
    },
    {
      "cell_type": "code",
      "source": [
        "import numpy as np\n",
        "\n",
        "plt.plot(epoch_count, (np.array(torch.tensor(loss_values).cpu().numpy())), label=\"Train Loss\")\n",
        "plt.plot(epoch_count, (np.array(torch.tensor(test_loss_values).cpu().numpy())), label=\"Test Loss\")\n",
        "plt.title(\"Training and Test Loss Curves\")\n",
        "plt.xlabel(\"Loss\")\n",
        "plt.ylabel(\"Epochs\")\n",
        "plt.legend()"
      ],
      "metadata": {
        "colab": {
          "base_uri": "https://localhost:8080/",
          "height": 489
        },
        "id": "M3zdTYlSXXR8",
        "outputId": "43916d23-c094-4fc8-c4fc-1db84feb1e3c"
      },
      "execution_count": 23,
      "outputs": [
        {
          "output_type": "execute_result",
          "data": {
            "text/plain": [
              "<matplotlib.legend.Legend at 0x7fe8275f0050>"
            ]
          },
          "metadata": {},
          "execution_count": 23
        },
        {
          "output_type": "display_data",
          "data": {
            "text/plain": [
              "<Figure size 640x480 with 1 Axes>"
            ],
            "image/png": "[encoded data removed]"
          },
          "metadata": {}
        }
      ]
    },
    {
      "cell_type": "code",
      "source": [
        "with torch.inference_mode():\n",
        "  y_preds_new = model_0(X_test)"
      ],
      "metadata": {
        "id": "o6UlmfYApLN2"
      },
      "execution_count": 24,
      "outputs": []
    },
    {
      "cell_type": "code",
      "source": [
        "# matplotlib is based on numpy\n",
        "# numpy computaions cannot be done on GPU\n",
        "\n",
        "plot_predictions(X_train.cpu(),y_train.cpu(),X_test.cpu(),y_test.cpu(),y_preds.cpu())"
      ],
      "metadata": {
        "colab": {
          "base_uri": "https://localhost:8080/",
          "height": 599
        },
        "id": "0wFyBQTjPoAI",
        "outputId": "1a740e67-c524-4420-9d88-fddc3245b7e5"
      },
      "execution_count": 25,
      "outputs": [
        {
          "output_type": "display_data",
          "data": {
            "text/plain": [
              "<Figure size 1000x700 with 1 Axes>"
            ],
            "image/png": "[encoded data removed]"
          },
          "metadata": {}
        }
      ]
    },
    {
      "cell_type": "code",
      "source": [
        "plot_predictions(X_train.cpu(),y_train.cpu(),X_test.cpu(),y_test.cpu(),y_preds_new.cpu())"
      ],
      "metadata": {
        "colab": {
          "base_uri": "https://localhost:8080/",
          "height": 599
        },
        "id": "zoErcA-fPovo",
        "outputId": "e6d43ae8-cda6-4d25-9404-014bf5c534de"
      },
      "execution_count": 26,
      "outputs": [
        {
          "output_type": "display_data",
          "data": {
            "text/plain": [
              "<Figure size 1000x700 with 1 Axes>"
            ],
            "image/png": "[encoded data removed]"
          },
          "metadata": {}
        }
      ]
    },
    {
      "cell_type": "markdown",
      "source": [
        "<h1>5. Saving and Loading the model</h1>"
      ],
      "metadata": {
        "id": "zIB1HOM5fmEn"
      }
    },
    {
      "cell_type": "markdown",
      "source": [
        "\n",
        "\n",
        "*   torch.save - Saves a serialized object to disk using Python's pickle utility. Models, tensors and various other Python objects like dictionaries can be saved using torch.save.\n",
        "*   torch.load - \tUses pickle's unpickling features to deserialize and load pickled Python object files (like models, tensors or dictionaries) into memory. You can also set which device to load the object to (CPU, GPU etc).\n",
        "*   torch.nn.Module.load_state_dict - Loads a model's parameter dictionary (model.state_dict()) using a saved state_dict() object.\n",
        "\n"
      ],
      "metadata": {
        "id": "l2VJoYZxgMw9"
      }
    },
    {
      "cell_type": "markdown",
      "source": [
        "<h2>Saving a model</h2>"
      ],
      "metadata": {
        "id": "JA8-hOG0jR_B"
      }
    },
    {
      "cell_type": "code",
      "source": [
        "from pathlib import Path\n",
        "\n",
        "# create models directory\n",
        "MODEL_PATH = Path(\"Models\")\n",
        "MODEL_PATH.mkdir(parents=True,exist_ok=True)\n",
        "# Create model save path\n",
        "MODEL_NAME = \"01_pytorch_workflow_model_0.pth\"\n",
        "MODEL_SAVE_PATH = MODEL_PATH / MODEL_NAME\n",
        "\n",
        "# Save the model state dict\n",
        "print(f\"Saving model to: {MODEL_SAVE_PATH}\")\n",
        "torch.save(obj=model_0.state_dict(),f=MODEL_SAVE_PATH)"
      ],
      "metadata": {
        "colab": {
          "base_uri": "https://localhost:8080/"
        },
        "id": "lS9UDoZ7fP-h",
        "outputId": "11a278ba-34c0-43f1-82c6-df7d514c7fc9"
      },
      "execution_count": 27,
      "outputs": [
        {
          "output_type": "stream",
          "name": "stdout",
          "text": [
            "Saving model to: Models/01_pytorch_workflow_model_0.pth\n"
          ]
        }
      ]
    },
    {
      "cell_type": "markdown",
      "source": [
        "<h2>Load a model</h2>"
      ],
      "metadata": {
        "id": "8vbaddfUjVKe"
      }
    },
    {
      "cell_type": "markdown",
      "source": [
        "Because we only saved the model's state_dict() which is a dictionary of learned parameters and not the entire model, we first have to load the state_dict() with torch.load() and then pass that state_dict() to a new instance of our model"
      ],
      "metadata": {
        "id": "kxSX9WtnkBqI"
      }
    },
    {
      "cell_type": "code",
      "source": [
        "# Instantiate a new instance of our model (this will be instantiated with random weights)\n",
        "loaded_model_0 = LinearRegressionModel()\n",
        "\n",
        "# Load the state_dict of our saved model (this will update the new instance of our model with trained weights)\n",
        "loaded_model_0.load_state_dict(torch.load(f=MODEL_SAVE_PATH))\n",
        "\n",
        "loaded_model_0.to(device)"
      ],
      "metadata": {
        "colab": {
          "base_uri": "https://localhost:8080/"
        },
        "id": "3QzZiJXNjZzV",
        "outputId": "ad5f0690-08c3-4cf8-9a8d-182808f98c80"
      },
      "execution_count": 31,
      "outputs": [
        {
          "output_type": "stream",
          "name": "stderr",
          "text": [
            "<ipython-input-31-0ed543bc087c>:5: FutureWarning: You are using `torch.load` with `weights_only=False` (the current default value), which uses the default pickle module implicitly. It is possible to construct malicious pickle data which will execute arbitrary code during unpickling (See https://github.com/pytorch/pytorch/blob/main/SECURITY.md#untrusted-models for more details). In a future release, the default value for `weights_only` will be flipped to `True`. This limits the functions that could be executed during unpickling. Arbitrary objects will no longer be allowed to be loaded via this mode unless they are explicitly allowlisted by the user via `torch.serialization.add_safe_globals`. We recommend you start setting `weights_only=True` for any use case where you don't have full control of the loaded file. Please open an issue on GitHub for any issues related to this experimental feature.\n",
            "  loaded_model_0.load_state_dict(torch.load(f=MODEL_SAVE_PATH))\n"
          ]
        },
        {
          "output_type": "execute_result",
          "data": {
            "text/plain": [
              "LinearRegressionModel(\n",
              "  (linear_layer): Linear(in_features=1, out_features=1, bias=True)\n",
              ")"
            ]
          },
          "metadata": {},
          "execution_count": 31
        }
      ]
    },
    {
      "cell_type": "code",
      "source": [
        "loaded_model_0.state_dict()"
      ],
      "metadata": {
        "colab": {
          "base_uri": "https://localhost:8080/"
        },
        "id": "MLVwj8IfmGAw",
        "outputId": "438e1283-2197-405f-d2cb-f75f7ccac759"
      },
      "execution_count": 32,
      "outputs": [
        {
          "output_type": "execute_result",
          "data": {
            "text/plain": [
              "OrderedDict([('linear_layer.weight', tensor([[0.6968]], device='cuda:0')),\n",
              "             ('linear_layer.bias', tensor([0.3025], device='cuda:0'))])"
            ]
          },
          "metadata": {},
          "execution_count": 32
        }
      ]
    },
    {
      "cell_type": "code",
      "source": [
        "# Put the loaded model into evaluation mode\n",
        "loaded_model_0.eval()\n",
        "\n",
        "# Use the inference mode context manager to make predictions\n",
        "with torch.inference_mode():\n",
        "    loaded_model_preds = loaded_model_0(X_test) # perform a forward pass on the test data with the loaded model\n",
        "\n",
        "loaded_model_preds"
      ],
      "metadata": {
        "colab": {
          "base_uri": "https://localhost:8080/"
        },
        "id": "mmlcDlvllW3N",
        "outputId": "3d41b203-2c6f-4fed-dbda-9f561a664c06"
      },
      "execution_count": 33,
      "outputs": [
        {
          "output_type": "execute_result",
          "data": {
            "text/plain": [
              "tensor([[0.8600],\n",
              "        [0.8739],\n",
              "        [0.8878],\n",
              "        [0.9018],\n",
              "        [0.9157],\n",
              "        [0.9296],\n",
              "        [0.9436],\n",
              "        [0.9575],\n",
              "        [0.9714],\n",
              "        [0.9854]], device='cuda:0')"
            ]
          },
          "metadata": {},
          "execution_count": 33
        }
      ]
    },
    {
      "cell_type": "code",
      "source": [
        "# Compare previous model predictions with loaded model predictions (these should be the same)\n",
        "y_preds_new == loaded_model_preds"
      ],
      "metadata": {
        "colab": {
          "base_uri": "https://localhost:8080/"
        },
        "id": "Wx2qi7Y5lZ6x",
        "outputId": "dfe4cb51-f284-44c9-ffd6-4db6b3f57d58"
      },
      "execution_count": 34,
      "outputs": [
        {
          "output_type": "execute_result",
          "data": {
            "text/plain": [
              "tensor([[True],\n",
              "        [True],\n",
              "        [True],\n",
              "        [True],\n",
              "        [True],\n",
              "        [True],\n",
              "        [True],\n",
              "        [True],\n",
              "        [True],\n",
              "        [True]], device='cuda:0')"
            ]
          },
          "metadata": {},
          "execution_count": 34
        }
      ]
    },
    {
      "cell_type": "markdown",
      "source": [
        "<hr>"
      ],
      "metadata": {
        "id": "73W7omEkoHP1"
      }
    }
  ]
}